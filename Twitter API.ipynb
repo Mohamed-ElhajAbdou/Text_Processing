{
 "cells": [
  {
   "cell_type": "markdown",
   "metadata": {},
   "source": [
    "# First open Tweeter Developers by clicking on this \n",
    "this is the general web page of developer.twitter [developer.twitter](https://developer.twitter.com/en)\n",
    "\n",
    "this is the website link that direct you on making a new app [Apps](https://developer.twitter.com/en/apps)\n",
    "\n",
    "This is the library that we can use it to connect and use other options from twitter [Tweepy documentation](https://docs.tweepy.org/en/latest/)"
   ]
  },
  {
   "cell_type": "code",
   "execution_count": 1,
   "metadata": {},
   "outputs": [],
   "source": [
    "my_consumer_key    = \"R4bu4KNWsdg3jsjAmNr3XJrbv\"\n",
    "my_consumer_secret = \"wL6ohlkdQbgEagXApfAX0Ikw0jiUhhSuHUlsB18NM3P7lFT6Dk\"\n",
    "my_access_token    = \"1674201936-yGFB6sN05TOYYrIDr7c91RPWQicNTrPzgQsZv2D\"\n",
    "my_access_secret   = \"y9mWjvyIqZVQFiGR7yFZ2aJeyvgARR3LjvndcwI1cOPwb\""
   ]
  },
  {
   "cell_type": "code",
   "execution_count": 3,
   "metadata": {},
   "outputs": [],
   "source": [
    "import tweepy\n",
    "from   tweepy import OAuthHandler"
   ]
  },
  {
   "cell_type": "code",
   "execution_count": 4,
   "metadata": {},
   "outputs": [],
   "source": [
    "auth = OAuthHandler(my_consumer_key,my_consumer_secret)\n",
    "auth.set_access_token(my_access_token,my_access_secret)"
   ]
  },
  {
   "cell_type": "code",
   "execution_count": 5,
   "metadata": {},
   "outputs": [],
   "source": [
    "api = tweepy.API(auth)"
   ]
  },
  {
   "cell_type": "markdown",
   "metadata": {},
   "source": [
    "# Updating my status"
   ]
  },
  {
   "cell_type": "code",
   "execution_count": 7,
   "metadata": {},
   "outputs": [],
   "source": [
    "api.update_status(\"Hello, This is Samsung Innovation Campus\")"
   ]
  },
  {
   "cell_type": "markdown",
   "metadata": {},
   "source": [
    "# lets gather tweets about any thing"
   ]
  },
  {
   "cell_type": "code",
   "execution_count": null,
   "metadata": {},
   "outputs": [],
   "source": [
    "keyword = 'Trump'\n",
    "tweepy.Cursor(api.search,q=keyword,lang='ar')"
   ]
  },
  {
   "cell_type": "code",
   "execution_count": 12,
   "metadata": {},
   "outputs": [
    {
     "name": "stdout",
     "output_type": "stream",
     "text": [
      "0 : ترامب: فوز بايدن يظهر أن اليهود الأمريكيين ‘لا يحبون إسرائيل بما فيه الكفاية’ https://t.co/cJifrTAiqh\n",
      "1 : RT @abotamam73: بصفقة اسلحة اميركية\n",
      " لاسقاط الحزب الشيوعي الصيني\n",
      "تكرر الولايات المتحدة اليوم \n",
      "مع طالبان \n",
      "مافعلته بصفقة مماثلة \n",
      "للجهاد الافغ…\n",
      "2 : @NassimNo از قبر مادرت آورده زنازاده\n",
      "3 : إدارة بايدن تبدأ مراجعة قرار ترامب تصنيف جماعة الحوثي اليمنية منظمة إرهابية أجنبية https://t.co/o6BMOqUXKq\n",
      "4 : رسمي: ترامب يتسلم أعلى جائزة مغربية لعمل الشرق الأوسط https://t.co/2gELA3Epn7\n",
      "5 : RT @abotamam73: بصفقة اسلحة اميركية\n",
      " لاسقاط الحزب الشيوعي الصيني\n",
      "تكرر الولايات المتحدة اليوم \n",
      "مع طالبان \n",
      "مافعلته بصفقة مماثلة \n",
      "للجهاد الافغ…\n",
      "6 : RT @abotamam73: بصفقة اسلحة اميركية\n",
      " لاسقاط الحزب الشيوعي الصيني\n",
      "تكرر الولايات المتحدة اليوم \n",
      "مع طالبان \n",
      "مافعلته بصفقة مماثلة \n",
      "للجهاد الافغ…\n",
      "7 : RT @abotamam73: بصفقة اسلحة اميركية\n",
      " لاسقاط الحزب الشيوعي الصيني\n",
      "تكرر الولايات المتحدة اليوم \n",
      "مع طالبان \n",
      "مافعلته بصفقة مماثلة \n",
      "للجهاد الافغ…\n",
      "8 : ❌🗣🔥🇺🇸🧨في عام 2017 ، حذر ترامب من أفغانستان وطالبان من 'انسحاب متسرع' https://t.co/6ajcF37n6Q\n",
      "9 : اتهام حليف ترامب بالعمل كوكيل ضغط لدولة أجنبية https://t.co/Zg9OHz82rm\n"
     ]
    }
   ],
   "source": [
    "keyword = 'Trump'\n",
    "i = 0\n",
    "for tweet in tweepy.Cursor(api.search,q=keyword,lang='ar').items(10):\n",
    "    print(str(i) + \" : \" + tweet.text)\n",
    "    i +=1"
   ]
  },
  {
   "cell_type": "markdown",
   "metadata": {},
   "source": [
    "#### Note that the tweets that has been extracted from the API is not the same as you search in the website it self\n",
    "\n",
    "#### this due to restrictions you as a developer have just 1% per day from the query in the website to prevent crises \n",
    "\n",
    "#### cuz there is also a payment for this kind of data to have more than 1%\n",
    "\n",
    "#### remmeber what has done with facebook from Cambridge Analytica\n"
   ]
  },
  {
   "cell_type": "code",
   "execution_count": 19,
   "metadata": {},
   "outputs": [],
   "source": [
    "# tweet._json\n",
    "# id\n",
    "# text\n",
    "# created_at\n",
    "# user.id\n",
    "# user.name\n",
    "# user.screen_name\n",
    "# user.location\n",
    "# followers_count\n",
    "# friends_count\n",
    "# favourites_count\n",
    "# statuses_count\n",
    "# lang\n",
    "# retweet_count\n",
    "# favorite_count"
   ]
  },
  {
   "cell_type": "markdown",
   "metadata": {},
   "source": [
    "## lets take a look inside one tweet and show out the attributes"
   ]
  },
  {
   "cell_type": "code",
   "execution_count": 21,
   "metadata": {},
   "outputs": [],
   "source": [
    "tweet = tweet._json"
   ]
  },
  {
   "cell_type": "markdown",
   "metadata": {},
   "source": [
    "## As you can see you can extract so many features (attributes) to construct a dataset and feed it into the machine learning system.\n"
   ]
  },
  {
   "cell_type": "markdown",
   "metadata": {},
   "source": [
    "# Mention Five applications that we can use these kind of data \n",
    "\n",
    "1- Influencer rank \n",
    "\n",
    "2- showing of the ternds \n",
    "\n",
    "3- creating a campain for social marketing and elections"
   ]
  },
  {
   "cell_type": "markdown",
   "metadata": {},
   "source": [
    "# Now lets construct a dataset using these following features:-\n",
    "\n",
    "1- ID\n",
    "\n",
    "2- text(the tweet)\n",
    "\n",
    "3-user.id\n",
    "\n",
    "4-user.name\n",
    "\n",
    "5-user.screen_name\n",
    "\n",
    "6-user.location\n",
    "\n",
    "7-followers_count\n",
    "\n",
    "8-friends_count\n",
    "\n",
    "9-created_at\n",
    "\n",
    "10- favourite_count\n",
    "\n",
    "11-status_count\n",
    "\n",
    "12-retweet count\n"
   ]
  },
  {
   "cell_type": "code",
   "execution_count": 22,
   "metadata": {},
   "outputs": [
    {
     "data": {
      "text/plain": [
       "1433041217269293058"
      ]
     },
     "execution_count": 22,
     "metadata": {},
     "output_type": "execute_result"
    }
   ],
   "source": [
    "tweet['id']"
   ]
  },
  {
   "cell_type": "code",
   "execution_count": 23,
   "metadata": {},
   "outputs": [
    {
     "data": {
      "text/plain": [
       "'اتهام حليف ترامب بالعمل كوكيل ضغط لدولة أجنبية https://t.co/Zg9OHz82rm'"
      ]
     },
     "execution_count": 23,
     "metadata": {},
     "output_type": "execute_result"
    }
   ],
   "source": [
    "tweet['text']"
   ]
  },
  {
   "cell_type": "code",
   "execution_count": null,
   "metadata": {},
   "outputs": [],
   "source": []
  },
  {
   "cell_type": "code",
   "execution_count": 24,
   "metadata": {},
   "outputs": [],
   "source": [
    "import pandas as pd "
   ]
  },
  {
   "cell_type": "code",
   "execution_count": 30,
   "metadata": {},
   "outputs": [],
   "source": [
    "df = pd.DataFrame(tweet)\n",
    "df['user'] = str(tweet['user'])"
   ]
  },
  {
   "cell_type": "code",
   "execution_count": 31,
   "metadata": {},
   "outputs": [
    {
     "data": {
      "text/html": [
       "<div>\n",
       "<style scoped>\n",
       "    .dataframe tbody tr th:only-of-type {\n",
       "        vertical-align: middle;\n",
       "    }\n",
       "\n",
       "    .dataframe tbody tr th {\n",
       "        vertical-align: top;\n",
       "    }\n",
       "\n",
       "    .dataframe thead th {\n",
       "        text-align: right;\n",
       "    }\n",
       "</style>\n",
       "<table border=\"1\" class=\"dataframe\">\n",
       "  <thead>\n",
       "    <tr style=\"text-align: right;\">\n",
       "      <th></th>\n",
       "      <th>created_at</th>\n",
       "      <th>id</th>\n",
       "      <th>id_str</th>\n",
       "      <th>text</th>\n",
       "      <th>truncated</th>\n",
       "      <th>entities</th>\n",
       "      <th>metadata</th>\n",
       "      <th>source</th>\n",
       "      <th>in_reply_to_status_id</th>\n",
       "      <th>in_reply_to_status_id_str</th>\n",
       "      <th>...</th>\n",
       "      <th>coordinates</th>\n",
       "      <th>place</th>\n",
       "      <th>contributors</th>\n",
       "      <th>is_quote_status</th>\n",
       "      <th>retweet_count</th>\n",
       "      <th>favorite_count</th>\n",
       "      <th>favorited</th>\n",
       "      <th>retweeted</th>\n",
       "      <th>possibly_sensitive</th>\n",
       "      <th>lang</th>\n",
       "    </tr>\n",
       "  </thead>\n",
       "  <tbody>\n",
       "    <tr>\n",
       "      <th>hashtags</th>\n",
       "      <td>Wed Sep 01 12:17:05 +0000 2021</td>\n",
       "      <td>1433041217269293058</td>\n",
       "      <td>1433041217269293058</td>\n",
       "      <td>اتهام حليف ترامب بالعمل كوكيل ضغط لدولة أجنبية...</td>\n",
       "      <td>False</td>\n",
       "      <td>[]</td>\n",
       "      <td>NaN</td>\n",
       "      <td>&lt;a href=\"https://revive.social/\" rel=\"nofollow...</td>\n",
       "      <td>None</td>\n",
       "      <td>None</td>\n",
       "      <td>...</td>\n",
       "      <td>None</td>\n",
       "      <td>None</td>\n",
       "      <td>None</td>\n",
       "      <td>False</td>\n",
       "      <td>0</td>\n",
       "      <td>0</td>\n",
       "      <td>False</td>\n",
       "      <td>False</td>\n",
       "      <td>False</td>\n",
       "      <td>ar</td>\n",
       "    </tr>\n",
       "    <tr>\n",
       "      <th>symbols</th>\n",
       "      <td>Wed Sep 01 12:17:05 +0000 2021</td>\n",
       "      <td>1433041217269293058</td>\n",
       "      <td>1433041217269293058</td>\n",
       "      <td>اتهام حليف ترامب بالعمل كوكيل ضغط لدولة أجنبية...</td>\n",
       "      <td>False</td>\n",
       "      <td>[]</td>\n",
       "      <td>NaN</td>\n",
       "      <td>&lt;a href=\"https://revive.social/\" rel=\"nofollow...</td>\n",
       "      <td>None</td>\n",
       "      <td>None</td>\n",
       "      <td>...</td>\n",
       "      <td>None</td>\n",
       "      <td>None</td>\n",
       "      <td>None</td>\n",
       "      <td>False</td>\n",
       "      <td>0</td>\n",
       "      <td>0</td>\n",
       "      <td>False</td>\n",
       "      <td>False</td>\n",
       "      <td>False</td>\n",
       "      <td>ar</td>\n",
       "    </tr>\n",
       "    <tr>\n",
       "      <th>user_mentions</th>\n",
       "      <td>Wed Sep 01 12:17:05 +0000 2021</td>\n",
       "      <td>1433041217269293058</td>\n",
       "      <td>1433041217269293058</td>\n",
       "      <td>اتهام حليف ترامب بالعمل كوكيل ضغط لدولة أجنبية...</td>\n",
       "      <td>False</td>\n",
       "      <td>[]</td>\n",
       "      <td>NaN</td>\n",
       "      <td>&lt;a href=\"https://revive.social/\" rel=\"nofollow...</td>\n",
       "      <td>None</td>\n",
       "      <td>None</td>\n",
       "      <td>...</td>\n",
       "      <td>None</td>\n",
       "      <td>None</td>\n",
       "      <td>None</td>\n",
       "      <td>False</td>\n",
       "      <td>0</td>\n",
       "      <td>0</td>\n",
       "      <td>False</td>\n",
       "      <td>False</td>\n",
       "      <td>False</td>\n",
       "      <td>ar</td>\n",
       "    </tr>\n",
       "    <tr>\n",
       "      <th>urls</th>\n",
       "      <td>Wed Sep 01 12:17:05 +0000 2021</td>\n",
       "      <td>1433041217269293058</td>\n",
       "      <td>1433041217269293058</td>\n",
       "      <td>اتهام حليف ترامب بالعمل كوكيل ضغط لدولة أجنبية...</td>\n",
       "      <td>False</td>\n",
       "      <td>[{'url': 'https://t.co/Zg9OHz82rm', 'expanded_...</td>\n",
       "      <td>NaN</td>\n",
       "      <td>&lt;a href=\"https://revive.social/\" rel=\"nofollow...</td>\n",
       "      <td>None</td>\n",
       "      <td>None</td>\n",
       "      <td>...</td>\n",
       "      <td>None</td>\n",
       "      <td>None</td>\n",
       "      <td>None</td>\n",
       "      <td>False</td>\n",
       "      <td>0</td>\n",
       "      <td>0</td>\n",
       "      <td>False</td>\n",
       "      <td>False</td>\n",
       "      <td>False</td>\n",
       "      <td>ar</td>\n",
       "    </tr>\n",
       "    <tr>\n",
       "      <th>iso_language_code</th>\n",
       "      <td>Wed Sep 01 12:17:05 +0000 2021</td>\n",
       "      <td>1433041217269293058</td>\n",
       "      <td>1433041217269293058</td>\n",
       "      <td>اتهام حليف ترامب بالعمل كوكيل ضغط لدولة أجنبية...</td>\n",
       "      <td>False</td>\n",
       "      <td>NaN</td>\n",
       "      <td>ar</td>\n",
       "      <td>&lt;a href=\"https://revive.social/\" rel=\"nofollow...</td>\n",
       "      <td>None</td>\n",
       "      <td>None</td>\n",
       "      <td>...</td>\n",
       "      <td>None</td>\n",
       "      <td>None</td>\n",
       "      <td>None</td>\n",
       "      <td>False</td>\n",
       "      <td>0</td>\n",
       "      <td>0</td>\n",
       "      <td>False</td>\n",
       "      <td>False</td>\n",
       "      <td>False</td>\n",
       "      <td>ar</td>\n",
       "    </tr>\n",
       "  </tbody>\n",
       "</table>\n",
       "<p>5 rows × 25 columns</p>\n",
       "</div>"
      ],
      "text/plain": [
       "                                       created_at                   id  \\\n",
       "hashtags           Wed Sep 01 12:17:05 +0000 2021  1433041217269293058   \n",
       "symbols            Wed Sep 01 12:17:05 +0000 2021  1433041217269293058   \n",
       "user_mentions      Wed Sep 01 12:17:05 +0000 2021  1433041217269293058   \n",
       "urls               Wed Sep 01 12:17:05 +0000 2021  1433041217269293058   \n",
       "iso_language_code  Wed Sep 01 12:17:05 +0000 2021  1433041217269293058   \n",
       "\n",
       "                                id_str  \\\n",
       "hashtags           1433041217269293058   \n",
       "symbols            1433041217269293058   \n",
       "user_mentions      1433041217269293058   \n",
       "urls               1433041217269293058   \n",
       "iso_language_code  1433041217269293058   \n",
       "\n",
       "                                                                text  \\\n",
       "hashtags           اتهام حليف ترامب بالعمل كوكيل ضغط لدولة أجنبية...   \n",
       "symbols            اتهام حليف ترامب بالعمل كوكيل ضغط لدولة أجنبية...   \n",
       "user_mentions      اتهام حليف ترامب بالعمل كوكيل ضغط لدولة أجنبية...   \n",
       "urls               اتهام حليف ترامب بالعمل كوكيل ضغط لدولة أجنبية...   \n",
       "iso_language_code  اتهام حليف ترامب بالعمل كوكيل ضغط لدولة أجنبية...   \n",
       "\n",
       "                   truncated  \\\n",
       "hashtags               False   \n",
       "symbols                False   \n",
       "user_mentions          False   \n",
       "urls                   False   \n",
       "iso_language_code      False   \n",
       "\n",
       "                                                            entities metadata  \\\n",
       "hashtags                                                          []      NaN   \n",
       "symbols                                                           []      NaN   \n",
       "user_mentions                                                     []      NaN   \n",
       "urls               [{'url': 'https://t.co/Zg9OHz82rm', 'expanded_...      NaN   \n",
       "iso_language_code                                                NaN       ar   \n",
       "\n",
       "                                                              source  \\\n",
       "hashtags           <a href=\"https://revive.social/\" rel=\"nofollow...   \n",
       "symbols            <a href=\"https://revive.social/\" rel=\"nofollow...   \n",
       "user_mentions      <a href=\"https://revive.social/\" rel=\"nofollow...   \n",
       "urls               <a href=\"https://revive.social/\" rel=\"nofollow...   \n",
       "iso_language_code  <a href=\"https://revive.social/\" rel=\"nofollow...   \n",
       "\n",
       "                  in_reply_to_status_id in_reply_to_status_id_str  ...  \\\n",
       "hashtags                           None                      None  ...   \n",
       "symbols                            None                      None  ...   \n",
       "user_mentions                      None                      None  ...   \n",
       "urls                               None                      None  ...   \n",
       "iso_language_code                  None                      None  ...   \n",
       "\n",
       "                  coordinates place contributors is_quote_status  \\\n",
       "hashtags                 None  None         None           False   \n",
       "symbols                  None  None         None           False   \n",
       "user_mentions            None  None         None           False   \n",
       "urls                     None  None         None           False   \n",
       "iso_language_code        None  None         None           False   \n",
       "\n",
       "                  retweet_count favorite_count favorited retweeted  \\\n",
       "hashtags                      0              0     False     False   \n",
       "symbols                       0              0     False     False   \n",
       "user_mentions                 0              0     False     False   \n",
       "urls                          0              0     False     False   \n",
       "iso_language_code             0              0     False     False   \n",
       "\n",
       "                   possibly_sensitive  lang  \n",
       "hashtags                        False    ar  \n",
       "symbols                         False    ar  \n",
       "user_mentions                   False    ar  \n",
       "urls                            False    ar  \n",
       "iso_language_code               False    ar  \n",
       "\n",
       "[5 rows x 25 columns]"
      ]
     },
     "execution_count": 31,
     "metadata": {},
     "output_type": "execute_result"
    }
   ],
   "source": [
    "df.head()"
   ]
  },
  {
   "cell_type": "markdown",
   "metadata": {},
   "source": [
    "### lets take this datframe with one row to get the `user` informations"
   ]
  },
  {
   "cell_type": "code",
   "execution_count": 33,
   "metadata": {},
   "outputs": [
    {
     "data": {
      "text/plain": [
       "created_at                                      Wed Sep 01 12:17:05 +0000 2021\n",
       "id                                                         1433041217269293058\n",
       "id_str                                                     1433041217269293058\n",
       "text                         اتهام حليف ترامب بالعمل كوكيل ضغط لدولة أجنبية...\n",
       "truncated                                                                False\n",
       "entities                                                                    []\n",
       "metadata                                                                   NaN\n",
       "source                       <a href=\"https://revive.social/\" rel=\"nofollow...\n",
       "in_reply_to_status_id                                                     None\n",
       "in_reply_to_status_id_str                                                 None\n",
       "in_reply_to_user_id                                                       None\n",
       "in_reply_to_user_id_str                                                   None\n",
       "in_reply_to_screen_name                                                   None\n",
       "user                         {'id': 1370655073978642433, 'id_str': '1370655...\n",
       "geo                                                                       None\n",
       "coordinates                                                               None\n",
       "place                                                                     None\n",
       "contributors                                                              None\n",
       "is_quote_status                                                          False\n",
       "retweet_count                                                                0\n",
       "favorite_count                                                               0\n",
       "favorited                                                                False\n",
       "retweeted                                                                False\n",
       "possibly_sensitive                                                       False\n",
       "lang                                                                        ar\n",
       "Name: hashtags, dtype: object"
      ]
     },
     "execution_count": 33,
     "metadata": {},
     "output_type": "execute_result"
    }
   ],
   "source": [
    "df.iloc[0]"
   ]
  },
  {
   "cell_type": "markdown",
   "metadata": {},
   "source": [
    "# lets gather the 10 tweets in one dataframe\n",
    "\n",
    "\n",
    "### the tweet have object a json with a datatype dictinary\n",
    "\n",
    "### _json method is a method return `mutli-response` which takes the data insert it into the `rows and columns` so we ends up with so much redudant duplicates data\n",
    "\n"
   ]
  },
  {
   "cell_type": "code",
   "execution_count": 41,
   "metadata": {},
   "outputs": [],
   "source": [
    "keyword = 'Trump'\n",
    "df = pd.DataFrame()\n",
    "for tweet in tweepy.Cursor(api.search,q=keyword,lang='ar').items(10):\n",
    "    tweet          = tweet._json\n",
    "    new_df         = pd.DataFrame(tweet)\n",
    "    new_df['user'] = str(tweet['user'])\n",
    "    df             = pd.concat([df,new_df],ignore_index=True)\n"
   ]
  },
  {
   "cell_type": "markdown",
   "metadata": {},
   "source": [
    "### there is a duplicates lets drop them?"
   ]
  },
  {
   "cell_type": "code",
   "execution_count": 47,
   "metadata": {},
   "outputs": [
    {
     "data": {
      "text/html": [
       "<div>\n",
       "<style scoped>\n",
       "    .dataframe tbody tr th:only-of-type {\n",
       "        vertical-align: middle;\n",
       "    }\n",
       "\n",
       "    .dataframe tbody tr th {\n",
       "        vertical-align: top;\n",
       "    }\n",
       "\n",
       "    .dataframe thead th {\n",
       "        text-align: right;\n",
       "    }\n",
       "</style>\n",
       "<table border=\"1\" class=\"dataframe\">\n",
       "  <thead>\n",
       "    <tr style=\"text-align: right;\">\n",
       "      <th></th>\n",
       "      <th>created_at</th>\n",
       "      <th>id</th>\n",
       "      <th>id_str</th>\n",
       "      <th>text</th>\n",
       "      <th>truncated</th>\n",
       "      <th>entities</th>\n",
       "      <th>metadata</th>\n",
       "      <th>source</th>\n",
       "      <th>in_reply_to_status_id</th>\n",
       "      <th>in_reply_to_status_id_str</th>\n",
       "      <th>...</th>\n",
       "      <th>place</th>\n",
       "      <th>contributors</th>\n",
       "      <th>is_quote_status</th>\n",
       "      <th>retweet_count</th>\n",
       "      <th>favorite_count</th>\n",
       "      <th>favorited</th>\n",
       "      <th>retweeted</th>\n",
       "      <th>possibly_sensitive</th>\n",
       "      <th>lang</th>\n",
       "      <th>retweeted_status</th>\n",
       "    </tr>\n",
       "  </thead>\n",
       "  <tbody>\n",
       "    <tr>\n",
       "      <th>0</th>\n",
       "      <td>Wed Sep 01 16:47:07 +0000 2021</td>\n",
       "      <td>1433109171952439301</td>\n",
       "      <td>1433109171952439301</td>\n",
       "      <td>ترامب: فوز بايدن يظهر أن اليهود الأمريكيين ‘لا...</td>\n",
       "      <td>False</td>\n",
       "      <td>[]</td>\n",
       "      <td>NaN</td>\n",
       "      <td>&lt;a href=\"https://revive.social/\" rel=\"nofollow...</td>\n",
       "      <td>None</td>\n",
       "      <td>None</td>\n",
       "      <td>...</td>\n",
       "      <td>None</td>\n",
       "      <td>None</td>\n",
       "      <td>False</td>\n",
       "      <td>0</td>\n",
       "      <td>0</td>\n",
       "      <td>False</td>\n",
       "      <td>False</td>\n",
       "      <td>False</td>\n",
       "      <td>ar</td>\n",
       "      <td>NaN</td>\n",
       "    </tr>\n",
       "    <tr>\n",
       "      <th>49</th>\n",
       "      <td>Wed Sep 01 16:39:33 +0000 2021</td>\n",
       "      <td>1433107270414618628</td>\n",
       "      <td>1433107270414618628</td>\n",
       "      <td>RT @abotamam73: بصفقة اسلحة اميركية\\n لاسقاط ا...</td>\n",
       "      <td>False</td>\n",
       "      <td>[]</td>\n",
       "      <td>NaN</td>\n",
       "      <td>&lt;a href=\"http://twitter.com/download/iphone\" r...</td>\n",
       "      <td>None</td>\n",
       "      <td>None</td>\n",
       "      <td>...</td>\n",
       "      <td>None</td>\n",
       "      <td>None</td>\n",
       "      <td>False</td>\n",
       "      <td>14</td>\n",
       "      <td>0</td>\n",
       "      <td>False</td>\n",
       "      <td>False</td>\n",
       "      <td>NaN</td>\n",
       "      <td>ar</td>\n",
       "      <td>NaN</td>\n",
       "    </tr>\n",
       "    <tr>\n",
       "      <th>118</th>\n",
       "      <td>Wed Sep 01 16:12:21 +0000 2021</td>\n",
       "      <td>1433100425683668993</td>\n",
       "      <td>1433100425683668993</td>\n",
       "      <td>@NassimNo از قبر مادرت آورده زنازاده</td>\n",
       "      <td>False</td>\n",
       "      <td>[]</td>\n",
       "      <td>NaN</td>\n",
       "      <td>&lt;a href=\"https://mobile.twitter.com\" rel=\"nofo...</td>\n",
       "      <td>1432911135204839426</td>\n",
       "      <td>1432911135204839426</td>\n",
       "      <td>...</td>\n",
       "      <td>None</td>\n",
       "      <td>None</td>\n",
       "      <td>False</td>\n",
       "      <td>0</td>\n",
       "      <td>0</td>\n",
       "      <td>False</td>\n",
       "      <td>False</td>\n",
       "      <td>NaN</td>\n",
       "      <td>ar</td>\n",
       "      <td>NaN</td>\n",
       "    </tr>\n",
       "    <tr>\n",
       "      <th>167</th>\n",
       "      <td>Wed Sep 01 15:47:05 +0000 2021</td>\n",
       "      <td>1433094065436778501</td>\n",
       "      <td>1433094065436778501</td>\n",
       "      <td>إدارة بايدن تبدأ مراجعة قرار ترامب تصنيف جماعة...</td>\n",
       "      <td>False</td>\n",
       "      <td>[]</td>\n",
       "      <td>NaN</td>\n",
       "      <td>&lt;a href=\"https://revive.social/\" rel=\"nofollow...</td>\n",
       "      <td>None</td>\n",
       "      <td>None</td>\n",
       "      <td>...</td>\n",
       "      <td>None</td>\n",
       "      <td>None</td>\n",
       "      <td>False</td>\n",
       "      <td>0</td>\n",
       "      <td>0</td>\n",
       "      <td>False</td>\n",
       "      <td>False</td>\n",
       "      <td>False</td>\n",
       "      <td>ar</td>\n",
       "      <td>NaN</td>\n",
       "    </tr>\n",
       "    <tr>\n",
       "      <th>216</th>\n",
       "      <td>Wed Sep 01 15:47:05 +0000 2021</td>\n",
       "      <td>1433094063918518277</td>\n",
       "      <td>1433094063918518277</td>\n",
       "      <td>رسمي: ترامب يتسلم أعلى جائزة مغربية لعمل الشرق...</td>\n",
       "      <td>False</td>\n",
       "      <td>[]</td>\n",
       "      <td>NaN</td>\n",
       "      <td>&lt;a href=\"https://revive.social/\" rel=\"nofollow...</td>\n",
       "      <td>None</td>\n",
       "      <td>None</td>\n",
       "      <td>...</td>\n",
       "      <td>None</td>\n",
       "      <td>None</td>\n",
       "      <td>False</td>\n",
       "      <td>0</td>\n",
       "      <td>0</td>\n",
       "      <td>False</td>\n",
       "      <td>False</td>\n",
       "      <td>False</td>\n",
       "      <td>ar</td>\n",
       "      <td>NaN</td>\n",
       "    </tr>\n",
       "  </tbody>\n",
       "</table>\n",
       "<p>5 rows × 26 columns</p>\n",
       "</div>"
      ],
      "text/plain": [
       "                         created_at                   id               id_str  \\\n",
       "0    Wed Sep 01 16:47:07 +0000 2021  1433109171952439301  1433109171952439301   \n",
       "49   Wed Sep 01 16:39:33 +0000 2021  1433107270414618628  1433107270414618628   \n",
       "118  Wed Sep 01 16:12:21 +0000 2021  1433100425683668993  1433100425683668993   \n",
       "167  Wed Sep 01 15:47:05 +0000 2021  1433094065436778501  1433094065436778501   \n",
       "216  Wed Sep 01 15:47:05 +0000 2021  1433094063918518277  1433094063918518277   \n",
       "\n",
       "                                                  text  truncated entities  \\\n",
       "0    ترامب: فوز بايدن يظهر أن اليهود الأمريكيين ‘لا...      False       []   \n",
       "49   RT @abotamam73: بصفقة اسلحة اميركية\\n لاسقاط ا...      False       []   \n",
       "118               @NassimNo از قبر مادرت آورده زنازاده      False       []   \n",
       "167  إدارة بايدن تبدأ مراجعة قرار ترامب تصنيف جماعة...      False       []   \n",
       "216  رسمي: ترامب يتسلم أعلى جائزة مغربية لعمل الشرق...      False       []   \n",
       "\n",
       "    metadata                                             source  \\\n",
       "0        NaN  <a href=\"https://revive.social/\" rel=\"nofollow...   \n",
       "49       NaN  <a href=\"http://twitter.com/download/iphone\" r...   \n",
       "118      NaN  <a href=\"https://mobile.twitter.com\" rel=\"nofo...   \n",
       "167      NaN  <a href=\"https://revive.social/\" rel=\"nofollow...   \n",
       "216      NaN  <a href=\"https://revive.social/\" rel=\"nofollow...   \n",
       "\n",
       "    in_reply_to_status_id in_reply_to_status_id_str  ... place contributors  \\\n",
       "0                    None                      None  ...  None         None   \n",
       "49                   None                      None  ...  None         None   \n",
       "118   1432911135204839426       1432911135204839426  ...  None         None   \n",
       "167                  None                      None  ...  None         None   \n",
       "216                  None                      None  ...  None         None   \n",
       "\n",
       "    is_quote_status retweet_count favorite_count favorited retweeted  \\\n",
       "0             False             0              0     False     False   \n",
       "49            False            14              0     False     False   \n",
       "118           False             0              0     False     False   \n",
       "167           False             0              0     False     False   \n",
       "216           False             0              0     False     False   \n",
       "\n",
       "    possibly_sensitive  lang  retweeted_status  \n",
       "0                False    ar               NaN  \n",
       "49                 NaN    ar               NaN  \n",
       "118                NaN    ar               NaN  \n",
       "167              False    ar               NaN  \n",
       "216              False    ar               NaN  \n",
       "\n",
       "[5 rows x 26 columns]"
      ]
     },
     "execution_count": 47,
     "metadata": {},
     "output_type": "execute_result"
    }
   ],
   "source": [
    "df = df.drop_duplicates(subset=['id'])\n",
    "df.head()"
   ]
  },
  {
   "cell_type": "code",
   "execution_count": 48,
   "metadata": {},
   "outputs": [],
   "source": [
    "df.to_excel('trump.xlsx',index=False,encoding='utf-8')"
   ]
  },
  {
   "cell_type": "markdown",
   "metadata": {},
   "source": [
    "## or save it to CSV file"
   ]
  },
  {
   "cell_type": "code",
   "execution_count": null,
   "metadata": {},
   "outputs": [],
   "source": [
    "df.to_csv('dataset.csv', index=False)"
   ]
  },
  {
   "cell_type": "markdown",
   "metadata": {},
   "source": [
    "## lets get information about a spesific user in the twitter lets take `Elon Musk` https://twitter.com/elonmusk"
   ]
  },
  {
   "cell_type": "code",
   "execution_count": 55,
   "metadata": {},
   "outputs": [
    {
     "data": {
      "text/plain": [
       "[Status(_api=<tweepy.api.API object at 0x000002710DED6850>, _json={'created_at': 'Wed Sep 01 17:42:56 +0000 2021', 'id': 1433123220643717120, 'id_str': '1433123220643717120', 'text': '@thesheetztweetz They can shake their fist at the sky', 'truncated': False, 'entities': {'hashtags': [], 'symbols': [], 'user_mentions': [{'screen_name': 'thesheetztweetz', 'name': 'Michael Sheetz', 'id': 1231406720, 'id_str': '1231406720', 'indices': [0, 16]}], 'urls': []}, 'source': '<a href=\"http://twitter.com/download/iphone\" rel=\"nofollow\">Twitter for iPhone</a>', 'in_reply_to_status_id': 1433109248007933960, 'in_reply_to_status_id_str': '1433109248007933960', 'in_reply_to_user_id': 1231406720, 'in_reply_to_user_id_str': '1231406720', 'in_reply_to_screen_name': 'thesheetztweetz', 'user': {'id': 44196397, 'id_str': '44196397', 'name': 'Elon Musk', 'screen_name': 'elonmusk', 'location': '', 'description': '', 'url': None, 'entities': {'description': {'urls': []}}, 'protected': False, 'followers_count': 59613062, 'friends_count': 105, 'listed_count': 76742, 'created_at': 'Tue Jun 02 20:12:29 +0000 2009', 'favourites_count': 9884, 'utc_offset': None, 'time_zone': None, 'geo_enabled': False, 'verified': True, 'statuses_count': 15316, 'lang': None, 'contributors_enabled': False, 'is_translator': False, 'is_translation_enabled': False, 'profile_background_color': 'C0DEED', 'profile_background_image_url': 'http://abs.twimg.com/images/themes/theme1/bg.png', 'profile_background_image_url_https': 'https://abs.twimg.com/images/themes/theme1/bg.png', 'profile_background_tile': False, 'profile_image_url': 'http://pbs.twimg.com/profile_images/1423663740344406029/l_-QOIHY_normal.jpg', 'profile_image_url_https': 'https://pbs.twimg.com/profile_images/1423663740344406029/l_-QOIHY_normal.jpg', 'profile_banner_url': 'https://pbs.twimg.com/profile_banners/44196397/1576183471', 'profile_link_color': '0084B4', 'profile_sidebar_border_color': 'C0DEED', 'profile_sidebar_fill_color': 'DDEEF6', 'profile_text_color': '333333', 'profile_use_background_image': True, 'has_extended_profile': True, 'default_profile': False, 'default_profile_image': False, 'following': False, 'follow_request_sent': False, 'notifications': False, 'translator_type': 'none', 'withheld_in_countries': []}, 'geo': None, 'coordinates': None, 'place': None, 'contributors': None, 'is_quote_status': False, 'retweet_count': 209, 'favorite_count': 2261, 'favorited': False, 'retweeted': False, 'lang': 'en'}, created_at=datetime.datetime(2021, 9, 1, 17, 42, 56), id=1433123220643717120, id_str='1433123220643717120', text='@thesheetztweetz They can shake their fist at the sky', truncated=False, entities={'hashtags': [], 'symbols': [], 'user_mentions': [{'screen_name': 'thesheetztweetz', 'name': 'Michael Sheetz', 'id': 1231406720, 'id_str': '1231406720', 'indices': [0, 16]}], 'urls': []}, source='Twitter for iPhone', source_url='http://twitter.com/download/iphone', in_reply_to_status_id=1433109248007933960, in_reply_to_status_id_str='1433109248007933960', in_reply_to_user_id=1231406720, in_reply_to_user_id_str='1231406720', in_reply_to_screen_name='thesheetztweetz', author=User(_api=<tweepy.api.API object at 0x000002710DED6850>, _json={'id': 44196397, 'id_str': '44196397', 'name': 'Elon Musk', 'screen_name': 'elonmusk', 'location': '', 'description': '', 'url': None, 'entities': {'description': {'urls': []}}, 'protected': False, 'followers_count': 59613062, 'friends_count': 105, 'listed_count': 76742, 'created_at': 'Tue Jun 02 20:12:29 +0000 2009', 'favourites_count': 9884, 'utc_offset': None, 'time_zone': None, 'geo_enabled': False, 'verified': True, 'statuses_count': 15316, 'lang': None, 'contributors_enabled': False, 'is_translator': False, 'is_translation_enabled': False, 'profile_background_color': 'C0DEED', 'profile_background_image_url': 'http://abs.twimg.com/images/themes/theme1/bg.png', 'profile_background_image_url_https': 'https://abs.twimg.com/images/themes/theme1/bg.png', 'profile_background_tile': False, 'profile_image_url': 'http://pbs.twimg.com/profile_images/1423663740344406029/l_-QOIHY_normal.jpg', 'profile_image_url_https': 'https://pbs.twimg.com/profile_images/1423663740344406029/l_-QOIHY_normal.jpg', 'profile_banner_url': 'https://pbs.twimg.com/profile_banners/44196397/1576183471', 'profile_link_color': '0084B4', 'profile_sidebar_border_color': 'C0DEED', 'profile_sidebar_fill_color': 'DDEEF6', 'profile_text_color': '333333', 'profile_use_background_image': True, 'has_extended_profile': True, 'default_profile': False, 'default_profile_image': False, 'following': False, 'follow_request_sent': False, 'notifications': False, 'translator_type': 'none', 'withheld_in_countries': []}, id=44196397, id_str='44196397', name='Elon Musk', screen_name='elonmusk', location='', description='', url=None, entities={'description': {'urls': []}}, protected=False, followers_count=59613062, friends_count=105, listed_count=76742, created_at=datetime.datetime(2009, 6, 2, 20, 12, 29), favourites_count=9884, utc_offset=None, time_zone=None, geo_enabled=False, verified=True, statuses_count=15316, lang=None, contributors_enabled=False, is_translator=False, is_translation_enabled=False, profile_background_color='C0DEED', profile_background_image_url='http://abs.twimg.com/images/themes/theme1/bg.png', profile_background_image_url_https='https://abs.twimg.com/images/themes/theme1/bg.png', profile_background_tile=False, profile_image_url='http://pbs.twimg.com/profile_images/1423663740344406029/l_-QOIHY_normal.jpg', profile_image_url_https='https://pbs.twimg.com/profile_images/1423663740344406029/l_-QOIHY_normal.jpg', profile_banner_url='https://pbs.twimg.com/profile_banners/44196397/1576183471', profile_link_color='0084B4', profile_sidebar_border_color='C0DEED', profile_sidebar_fill_color='DDEEF6', profile_text_color='333333', profile_use_background_image=True, has_extended_profile=True, default_profile=False, default_profile_image=False, following=False, follow_request_sent=False, notifications=False, translator_type='none', withheld_in_countries=[]), user=User(_api=<tweepy.api.API object at 0x000002710DED6850>, _json={'id': 44196397, 'id_str': '44196397', 'name': 'Elon Musk', 'screen_name': 'elonmusk', 'location': '', 'description': '', 'url': None, 'entities': {'description': {'urls': []}}, 'protected': False, 'followers_count': 59613062, 'friends_count': 105, 'listed_count': 76742, 'created_at': 'Tue Jun 02 20:12:29 +0000 2009', 'favourites_count': 9884, 'utc_offset': None, 'time_zone': None, 'geo_enabled': False, 'verified': True, 'statuses_count': 15316, 'lang': None, 'contributors_enabled': False, 'is_translator': False, 'is_translation_enabled': False, 'profile_background_color': 'C0DEED', 'profile_background_image_url': 'http://abs.twimg.com/images/themes/theme1/bg.png', 'profile_background_image_url_https': 'https://abs.twimg.com/images/themes/theme1/bg.png', 'profile_background_tile': False, 'profile_image_url': 'http://pbs.twimg.com/profile_images/1423663740344406029/l_-QOIHY_normal.jpg', 'profile_image_url_https': 'https://pbs.twimg.com/profile_images/1423663740344406029/l_-QOIHY_normal.jpg', 'profile_banner_url': 'https://pbs.twimg.com/profile_banners/44196397/1576183471', 'profile_link_color': '0084B4', 'profile_sidebar_border_color': 'C0DEED', 'profile_sidebar_fill_color': 'DDEEF6', 'profile_text_color': '333333', 'profile_use_background_image': True, 'has_extended_profile': True, 'default_profile': False, 'default_profile_image': False, 'following': False, 'follow_request_sent': False, 'notifications': False, 'translator_type': 'none', 'withheld_in_countries': []}, id=44196397, id_str='44196397', name='Elon Musk', screen_name='elonmusk', location='', description='', url=None, entities={'description': {'urls': []}}, protected=False, followers_count=59613062, friends_count=105, listed_count=76742, created_at=datetime.datetime(2009, 6, 2, 20, 12, 29), favourites_count=9884, utc_offset=None, time_zone=None, geo_enabled=False, verified=True, statuses_count=15316, lang=None, contributors_enabled=False, is_translator=False, is_translation_enabled=False, profile_background_color='C0DEED', profile_background_image_url='http://abs.twimg.com/images/themes/theme1/bg.png', profile_background_image_url_https='https://abs.twimg.com/images/themes/theme1/bg.png', profile_background_tile=False, profile_image_url='http://pbs.twimg.com/profile_images/1423663740344406029/l_-QOIHY_normal.jpg', profile_image_url_https='https://pbs.twimg.com/profile_images/1423663740344406029/l_-QOIHY_normal.jpg', profile_banner_url='https://pbs.twimg.com/profile_banners/44196397/1576183471', profile_link_color='0084B4', profile_sidebar_border_color='C0DEED', profile_sidebar_fill_color='DDEEF6', profile_text_color='333333', profile_use_background_image=True, has_extended_profile=True, default_profile=False, default_profile_image=False, following=False, follow_request_sent=False, notifications=False, translator_type='none', withheld_in_countries=[]), geo=None, coordinates=None, place=None, contributors=None, is_quote_status=False, retweet_count=209, favorite_count=2261, favorited=False, retweeted=False, lang='en'),\n",
       " Status(_api=<tweepy.api.API object at 0x000002710DED6850>, _json={'created_at': 'Wed Sep 01 17:40:17 +0000 2021', 'id': 1433122554156257280, 'id_str': '1433122554156257280', 'text': '@StianWalgermo @Tesla @ARKInvest @WholeMarsBlog @alex_avoigt @Teslarati @TeslaPodcast @mortenlund89 @Kristennetten Norway FTW 🇳🇴 💕', 'truncated': False, 'entities': {'hashtags': [], 'symbols': [], 'user_mentions': [{'screen_name': 'StianWalgermo', 'name': 'Walgermo 🇳🇴', 'id': 1860572792, 'id_str': '1860572792', 'indices': [0, 14]}, {'screen_name': 'Tesla', 'name': 'Tesla', 'id': 13298072, 'id_str': '13298072', 'indices': [15, 21]}, {'screen_name': 'ARKInvest', 'name': 'ARK Invest', 'id': 2398137084, 'id_str': '2398137084', 'indices': [22, 32]}, {'screen_name': 'WholeMarsBlog', 'name': 'Whole Mars Catalog', 'id': 1263491240336769026, 'id_str': '1263491240336769026', 'indices': [33, 47]}, {'screen_name': 'alex_avoigt', 'name': 'Alex', 'id': 718747351792398336, 'id_str': '718747351792398336', 'indices': [48, 60]}, {'screen_name': 'Teslarati', 'name': 'TESLARATI', 'id': 1308211178, 'id_str': '1308211178', 'indices': [61, 71]}, {'screen_name': 'TeslaPodcast', 'name': 'Rob Maurer', 'id': 898021206967951360, 'id_str': '898021206967951360', 'indices': [72, 85]}, {'screen_name': 'mortenlund89', 'name': 'Morten Grove, Captain of all Tesla-Ships 🚢', 'id': 855795055, 'id_str': '855795055', 'indices': [86, 99]}, {'screen_name': 'Kristennetten', 'name': '•K10• ✨', 'id': 985686123123949568, 'id_str': '985686123123949568', 'indices': [100, 114]}], 'urls': []}, 'source': '<a href=\"http://twitter.com/download/iphone\" rel=\"nofollow\">Twitter for iPhone</a>', 'in_reply_to_status_id': 1433080556376530952, 'in_reply_to_status_id_str': '1433080556376530952', 'in_reply_to_user_id': 1860572792, 'in_reply_to_user_id_str': '1860572792', 'in_reply_to_screen_name': 'StianWalgermo', 'user': {'id': 44196397, 'id_str': '44196397', 'name': 'Elon Musk', 'screen_name': 'elonmusk', 'location': '', 'description': '', 'url': None, 'entities': {'description': {'urls': []}}, 'protected': False, 'followers_count': 59613062, 'friends_count': 105, 'listed_count': 76742, 'created_at': 'Tue Jun 02 20:12:29 +0000 2009', 'favourites_count': 9884, 'utc_offset': None, 'time_zone': None, 'geo_enabled': False, 'verified': True, 'statuses_count': 15316, 'lang': None, 'contributors_enabled': False, 'is_translator': False, 'is_translation_enabled': False, 'profile_background_color': 'C0DEED', 'profile_background_image_url': 'http://abs.twimg.com/images/themes/theme1/bg.png', 'profile_background_image_url_https': 'https://abs.twimg.com/images/themes/theme1/bg.png', 'profile_background_tile': False, 'profile_image_url': 'http://pbs.twimg.com/profile_images/1423663740344406029/l_-QOIHY_normal.jpg', 'profile_image_url_https': 'https://pbs.twimg.com/profile_images/1423663740344406029/l_-QOIHY_normal.jpg', 'profile_banner_url': 'https://pbs.twimg.com/profile_banners/44196397/1576183471', 'profile_link_color': '0084B4', 'profile_sidebar_border_color': 'C0DEED', 'profile_sidebar_fill_color': 'DDEEF6', 'profile_text_color': '333333', 'profile_use_background_image': True, 'has_extended_profile': True, 'default_profile': False, 'default_profile_image': False, 'following': False, 'follow_request_sent': False, 'notifications': False, 'translator_type': 'none', 'withheld_in_countries': []}, 'geo': None, 'coordinates': None, 'place': None, 'contributors': None, 'is_quote_status': False, 'retweet_count': 133, 'favorite_count': 2673, 'favorited': False, 'retweeted': False, 'lang': 'en'}, created_at=datetime.datetime(2021, 9, 1, 17, 40, 17), id=1433122554156257280, id_str='1433122554156257280', text='@StianWalgermo @Tesla @ARKInvest @WholeMarsBlog @alex_avoigt @Teslarati @TeslaPodcast @mortenlund89 @Kristennetten Norway FTW 🇳🇴 💕', truncated=False, entities={'hashtags': [], 'symbols': [], 'user_mentions': [{'screen_name': 'StianWalgermo', 'name': 'Walgermo 🇳🇴', 'id': 1860572792, 'id_str': '1860572792', 'indices': [0, 14]}, {'screen_name': 'Tesla', 'name': 'Tesla', 'id': 13298072, 'id_str': '13298072', 'indices': [15, 21]}, {'screen_name': 'ARKInvest', 'name': 'ARK Invest', 'id': 2398137084, 'id_str': '2398137084', 'indices': [22, 32]}, {'screen_name': 'WholeMarsBlog', 'name': 'Whole Mars Catalog', 'id': 1263491240336769026, 'id_str': '1263491240336769026', 'indices': [33, 47]}, {'screen_name': 'alex_avoigt', 'name': 'Alex', 'id': 718747351792398336, 'id_str': '718747351792398336', 'indices': [48, 60]}, {'screen_name': 'Teslarati', 'name': 'TESLARATI', 'id': 1308211178, 'id_str': '1308211178', 'indices': [61, 71]}, {'screen_name': 'TeslaPodcast', 'name': 'Rob Maurer', 'id': 898021206967951360, 'id_str': '898021206967951360', 'indices': [72, 85]}, {'screen_name': 'mortenlund89', 'name': 'Morten Grove, Captain of all Tesla-Ships 🚢', 'id': 855795055, 'id_str': '855795055', 'indices': [86, 99]}, {'screen_name': 'Kristennetten', 'name': '•K10• ✨', 'id': 985686123123949568, 'id_str': '985686123123949568', 'indices': [100, 114]}], 'urls': []}, source='Twitter for iPhone', source_url='http://twitter.com/download/iphone', in_reply_to_status_id=1433080556376530952, in_reply_to_status_id_str='1433080556376530952', in_reply_to_user_id=1860572792, in_reply_to_user_id_str='1860572792', in_reply_to_screen_name='StianWalgermo', author=User(_api=<tweepy.api.API object at 0x000002710DED6850>, _json={'id': 44196397, 'id_str': '44196397', 'name': 'Elon Musk', 'screen_name': 'elonmusk', 'location': '', 'description': '', 'url': None, 'entities': {'description': {'urls': []}}, 'protected': False, 'followers_count': 59613062, 'friends_count': 105, 'listed_count': 76742, 'created_at': 'Tue Jun 02 20:12:29 +0000 2009', 'favourites_count': 9884, 'utc_offset': None, 'time_zone': None, 'geo_enabled': False, 'verified': True, 'statuses_count': 15316, 'lang': None, 'contributors_enabled': False, 'is_translator': False, 'is_translation_enabled': False, 'profile_background_color': 'C0DEED', 'profile_background_image_url': 'http://abs.twimg.com/images/themes/theme1/bg.png', 'profile_background_image_url_https': 'https://abs.twimg.com/images/themes/theme1/bg.png', 'profile_background_tile': False, 'profile_image_url': 'http://pbs.twimg.com/profile_images/1423663740344406029/l_-QOIHY_normal.jpg', 'profile_image_url_https': 'https://pbs.twimg.com/profile_images/1423663740344406029/l_-QOIHY_normal.jpg', 'profile_banner_url': 'https://pbs.twimg.com/profile_banners/44196397/1576183471', 'profile_link_color': '0084B4', 'profile_sidebar_border_color': 'C0DEED', 'profile_sidebar_fill_color': 'DDEEF6', 'profile_text_color': '333333', 'profile_use_background_image': True, 'has_extended_profile': True, 'default_profile': False, 'default_profile_image': False, 'following': False, 'follow_request_sent': False, 'notifications': False, 'translator_type': 'none', 'withheld_in_countries': []}, id=44196397, id_str='44196397', name='Elon Musk', screen_name='elonmusk', location='', description='', url=None, entities={'description': {'urls': []}}, protected=False, followers_count=59613062, friends_count=105, listed_count=76742, created_at=datetime.datetime(2009, 6, 2, 20, 12, 29), favourites_count=9884, utc_offset=None, time_zone=None, geo_enabled=False, verified=True, statuses_count=15316, lang=None, contributors_enabled=False, is_translator=False, is_translation_enabled=False, profile_background_color='C0DEED', profile_background_image_url='http://abs.twimg.com/images/themes/theme1/bg.png', profile_background_image_url_https='https://abs.twimg.com/images/themes/theme1/bg.png', profile_background_tile=False, profile_image_url='http://pbs.twimg.com/profile_images/1423663740344406029/l_-QOIHY_normal.jpg', profile_image_url_https='https://pbs.twimg.com/profile_images/1423663740344406029/l_-QOIHY_normal.jpg', profile_banner_url='https://pbs.twimg.com/profile_banners/44196397/1576183471', profile_link_color='0084B4', profile_sidebar_border_color='C0DEED', profile_sidebar_fill_color='DDEEF6', profile_text_color='333333', profile_use_background_image=True, has_extended_profile=True, default_profile=False, default_profile_image=False, following=False, follow_request_sent=False, notifications=False, translator_type='none', withheld_in_countries=[]), user=User(_api=<tweepy.api.API object at 0x000002710DED6850>, _json={'id': 44196397, 'id_str': '44196397', 'name': 'Elon Musk', 'screen_name': 'elonmusk', 'location': '', 'description': '', 'url': None, 'entities': {'description': {'urls': []}}, 'protected': False, 'followers_count': 59613062, 'friends_count': 105, 'listed_count': 76742, 'created_at': 'Tue Jun 02 20:12:29 +0000 2009', 'favourites_count': 9884, 'utc_offset': None, 'time_zone': None, 'geo_enabled': False, 'verified': True, 'statuses_count': 15316, 'lang': None, 'contributors_enabled': False, 'is_translator': False, 'is_translation_enabled': False, 'profile_background_color': 'C0DEED', 'profile_background_image_url': 'http://abs.twimg.com/images/themes/theme1/bg.png', 'profile_background_image_url_https': 'https://abs.twimg.com/images/themes/theme1/bg.png', 'profile_background_tile': False, 'profile_image_url': 'http://pbs.twimg.com/profile_images/1423663740344406029/l_-QOIHY_normal.jpg', 'profile_image_url_https': 'https://pbs.twimg.com/profile_images/1423663740344406029/l_-QOIHY_normal.jpg', 'profile_banner_url': 'https://pbs.twimg.com/profile_banners/44196397/1576183471', 'profile_link_color': '0084B4', 'profile_sidebar_border_color': 'C0DEED', 'profile_sidebar_fill_color': 'DDEEF6', 'profile_text_color': '333333', 'profile_use_background_image': True, 'has_extended_profile': True, 'default_profile': False, 'default_profile_image': False, 'following': False, 'follow_request_sent': False, 'notifications': False, 'translator_type': 'none', 'withheld_in_countries': []}, id=44196397, id_str='44196397', name='Elon Musk', screen_name='elonmusk', location='', description='', url=None, entities={'description': {'urls': []}}, protected=False, followers_count=59613062, friends_count=105, listed_count=76742, created_at=datetime.datetime(2009, 6, 2, 20, 12, 29), favourites_count=9884, utc_offset=None, time_zone=None, geo_enabled=False, verified=True, statuses_count=15316, lang=None, contributors_enabled=False, is_translator=False, is_translation_enabled=False, profile_background_color='C0DEED', profile_background_image_url='http://abs.twimg.com/images/themes/theme1/bg.png', profile_background_image_url_https='https://abs.twimg.com/images/themes/theme1/bg.png', profile_background_tile=False, profile_image_url='http://pbs.twimg.com/profile_images/1423663740344406029/l_-QOIHY_normal.jpg', profile_image_url_https='https://pbs.twimg.com/profile_images/1423663740344406029/l_-QOIHY_normal.jpg', profile_banner_url='https://pbs.twimg.com/profile_banners/44196397/1576183471', profile_link_color='0084B4', profile_sidebar_border_color='C0DEED', profile_sidebar_fill_color='DDEEF6', profile_text_color='333333', profile_use_background_image=True, has_extended_profile=True, default_profile=False, default_profile_image=False, following=False, follow_request_sent=False, notifications=False, translator_type='none', withheld_in_countries=[]), geo=None, coordinates=None, place=None, contributors=None, is_quote_status=False, retweet_count=133, favorite_count=2673, favorited=False, retweeted=False, lang='en'),\n",
       " Status(_api=<tweepy.api.API object at 0x000002710DED6850>, _json={'created_at': 'Wed Sep 01 17:35:54 +0000 2021', 'id': 1433121450446127106, 'id_str': '1433121450446127106', 'text': '@Max9907826460 @TeslaratiTeam Our new crane!', 'truncated': False, 'entities': {'hashtags': [], 'symbols': [], 'user_mentions': [{'screen_name': 'Max9907826460', 'name': 'Max._.', 'id': 957905390301319168, 'id_str': '957905390301319168', 'indices': [0, 14]}, {'screen_name': 'TeslaratiTeam', 'name': 'Teslarati Team', 'id': 3101262673, 'id_str': '3101262673', 'indices': [15, 29]}], 'urls': []}, 'source': '<a href=\"http://twitter.com/download/iphone\" rel=\"nofollow\">Twitter for iPhone</a>', 'in_reply_to_status_id': 1433001281753337856, 'in_reply_to_status_id_str': '1433001281753337856', 'in_reply_to_user_id': 957905390301319168, 'in_reply_to_user_id_str': '957905390301319168', 'in_reply_to_screen_name': 'Max9907826460', 'user': {'id': 44196397, 'id_str': '44196397', 'name': 'Elon Musk', 'screen_name': 'elonmusk', 'location': '', 'description': '', 'url': None, 'entities': {'description': {'urls': []}}, 'protected': False, 'followers_count': 59613062, 'friends_count': 105, 'listed_count': 76742, 'created_at': 'Tue Jun 02 20:12:29 +0000 2009', 'favourites_count': 9884, 'utc_offset': None, 'time_zone': None, 'geo_enabled': False, 'verified': True, 'statuses_count': 15316, 'lang': None, 'contributors_enabled': False, 'is_translator': False, 'is_translation_enabled': False, 'profile_background_color': 'C0DEED', 'profile_background_image_url': 'http://abs.twimg.com/images/themes/theme1/bg.png', 'profile_background_image_url_https': 'https://abs.twimg.com/images/themes/theme1/bg.png', 'profile_background_tile': False, 'profile_image_url': 'http://pbs.twimg.com/profile_images/1423663740344406029/l_-QOIHY_normal.jpg', 'profile_image_url_https': 'https://pbs.twimg.com/profile_images/1423663740344406029/l_-QOIHY_normal.jpg', 'profile_banner_url': 'https://pbs.twimg.com/profile_banners/44196397/1576183471', 'profile_link_color': '0084B4', 'profile_sidebar_border_color': 'C0DEED', 'profile_sidebar_fill_color': 'DDEEF6', 'profile_text_color': '333333', 'profile_use_background_image': True, 'has_extended_profile': True, 'default_profile': False, 'default_profile_image': False, 'following': False, 'follow_request_sent': False, 'notifications': False, 'translator_type': 'none', 'withheld_in_countries': []}, 'geo': None, 'coordinates': None, 'place': None, 'contributors': None, 'is_quote_status': False, 'retweet_count': 60, 'favorite_count': 948, 'favorited': False, 'retweeted': False, 'lang': 'en'}, created_at=datetime.datetime(2021, 9, 1, 17, 35, 54), id=1433121450446127106, id_str='1433121450446127106', text='@Max9907826460 @TeslaratiTeam Our new crane!', truncated=False, entities={'hashtags': [], 'symbols': [], 'user_mentions': [{'screen_name': 'Max9907826460', 'name': 'Max._.', 'id': 957905390301319168, 'id_str': '957905390301319168', 'indices': [0, 14]}, {'screen_name': 'TeslaratiTeam', 'name': 'Teslarati Team', 'id': 3101262673, 'id_str': '3101262673', 'indices': [15, 29]}], 'urls': []}, source='Twitter for iPhone', source_url='http://twitter.com/download/iphone', in_reply_to_status_id=1433001281753337856, in_reply_to_status_id_str='1433001281753337856', in_reply_to_user_id=957905390301319168, in_reply_to_user_id_str='957905390301319168', in_reply_to_screen_name='Max9907826460', author=User(_api=<tweepy.api.API object at 0x000002710DED6850>, _json={'id': 44196397, 'id_str': '44196397', 'name': 'Elon Musk', 'screen_name': 'elonmusk', 'location': '', 'description': '', 'url': None, 'entities': {'description': {'urls': []}}, 'protected': False, 'followers_count': 59613062, 'friends_count': 105, 'listed_count': 76742, 'created_at': 'Tue Jun 02 20:12:29 +0000 2009', 'favourites_count': 9884, 'utc_offset': None, 'time_zone': None, 'geo_enabled': False, 'verified': True, 'statuses_count': 15316, 'lang': None, 'contributors_enabled': False, 'is_translator': False, 'is_translation_enabled': False, 'profile_background_color': 'C0DEED', 'profile_background_image_url': 'http://abs.twimg.com/images/themes/theme1/bg.png', 'profile_background_image_url_https': 'https://abs.twimg.com/images/themes/theme1/bg.png', 'profile_background_tile': False, 'profile_image_url': 'http://pbs.twimg.com/profile_images/1423663740344406029/l_-QOIHY_normal.jpg', 'profile_image_url_https': 'https://pbs.twimg.com/profile_images/1423663740344406029/l_-QOIHY_normal.jpg', 'profile_banner_url': 'https://pbs.twimg.com/profile_banners/44196397/1576183471', 'profile_link_color': '0084B4', 'profile_sidebar_border_color': 'C0DEED', 'profile_sidebar_fill_color': 'DDEEF6', 'profile_text_color': '333333', 'profile_use_background_image': True, 'has_extended_profile': True, 'default_profile': False, 'default_profile_image': False, 'following': False, 'follow_request_sent': False, 'notifications': False, 'translator_type': 'none', 'withheld_in_countries': []}, id=44196397, id_str='44196397', name='Elon Musk', screen_name='elonmusk', location='', description='', url=None, entities={'description': {'urls': []}}, protected=False, followers_count=59613062, friends_count=105, listed_count=76742, created_at=datetime.datetime(2009, 6, 2, 20, 12, 29), favourites_count=9884, utc_offset=None, time_zone=None, geo_enabled=False, verified=True, statuses_count=15316, lang=None, contributors_enabled=False, is_translator=False, is_translation_enabled=False, profile_background_color='C0DEED', profile_background_image_url='http://abs.twimg.com/images/themes/theme1/bg.png', profile_background_image_url_https='https://abs.twimg.com/images/themes/theme1/bg.png', profile_background_tile=False, profile_image_url='http://pbs.twimg.com/profile_images/1423663740344406029/l_-QOIHY_normal.jpg', profile_image_url_https='https://pbs.twimg.com/profile_images/1423663740344406029/l_-QOIHY_normal.jpg', profile_banner_url='https://pbs.twimg.com/profile_banners/44196397/1576183471', profile_link_color='0084B4', profile_sidebar_border_color='C0DEED', profile_sidebar_fill_color='DDEEF6', profile_text_color='333333', profile_use_background_image=True, has_extended_profile=True, default_profile=False, default_profile_image=False, following=False, follow_request_sent=False, notifications=False, translator_type='none', withheld_in_countries=[]), user=User(_api=<tweepy.api.API object at 0x000002710DED6850>, _json={'id': 44196397, 'id_str': '44196397', 'name': 'Elon Musk', 'screen_name': 'elonmusk', 'location': '', 'description': '', 'url': None, 'entities': {'description': {'urls': []}}, 'protected': False, 'followers_count': 59613062, 'friends_count': 105, 'listed_count': 76742, 'created_at': 'Tue Jun 02 20:12:29 +0000 2009', 'favourites_count': 9884, 'utc_offset': None, 'time_zone': None, 'geo_enabled': False, 'verified': True, 'statuses_count': 15316, 'lang': None, 'contributors_enabled': False, 'is_translator': False, 'is_translation_enabled': False, 'profile_background_color': 'C0DEED', 'profile_background_image_url': 'http://abs.twimg.com/images/themes/theme1/bg.png', 'profile_background_image_url_https': 'https://abs.twimg.com/images/themes/theme1/bg.png', 'profile_background_tile': False, 'profile_image_url': 'http://pbs.twimg.com/profile_images/1423663740344406029/l_-QOIHY_normal.jpg', 'profile_image_url_https': 'https://pbs.twimg.com/profile_images/1423663740344406029/l_-QOIHY_normal.jpg', 'profile_banner_url': 'https://pbs.twimg.com/profile_banners/44196397/1576183471', 'profile_link_color': '0084B4', 'profile_sidebar_border_color': 'C0DEED', 'profile_sidebar_fill_color': 'DDEEF6', 'profile_text_color': '333333', 'profile_use_background_image': True, 'has_extended_profile': True, 'default_profile': False, 'default_profile_image': False, 'following': False, 'follow_request_sent': False, 'notifications': False, 'translator_type': 'none', 'withheld_in_countries': []}, id=44196397, id_str='44196397', name='Elon Musk', screen_name='elonmusk', location='', description='', url=None, entities={'description': {'urls': []}}, protected=False, followers_count=59613062, friends_count=105, listed_count=76742, created_at=datetime.datetime(2009, 6, 2, 20, 12, 29), favourites_count=9884, utc_offset=None, time_zone=None, geo_enabled=False, verified=True, statuses_count=15316, lang=None, contributors_enabled=False, is_translator=False, is_translation_enabled=False, profile_background_color='C0DEED', profile_background_image_url='http://abs.twimg.com/images/themes/theme1/bg.png', profile_background_image_url_https='https://abs.twimg.com/images/themes/theme1/bg.png', profile_background_tile=False, profile_image_url='http://pbs.twimg.com/profile_images/1423663740344406029/l_-QOIHY_normal.jpg', profile_image_url_https='https://pbs.twimg.com/profile_images/1423663740344406029/l_-QOIHY_normal.jpg', profile_banner_url='https://pbs.twimg.com/profile_banners/44196397/1576183471', profile_link_color='0084B4', profile_sidebar_border_color='C0DEED', profile_sidebar_fill_color='DDEEF6', profile_text_color='333333', profile_use_background_image=True, has_extended_profile=True, default_profile=False, default_profile_image=False, following=False, follow_request_sent=False, notifications=False, translator_type='none', withheld_in_countries=[]), geo=None, coordinates=None, place=None, contributors=None, is_quote_status=False, retweet_count=60, favorite_count=948, favorited=False, retweeted=False, lang='en'),\n",
       " Status(_api=<tweepy.api.API object at 0x000002710DED6850>, _json={'created_at': 'Wed Sep 01 17:10:24 +0000 2021', 'id': 1433115031940440065, 'id_str': '1433115031940440065', 'text': '@AaronS5_ @ashleevance 2021 has been the year of super crazy supply chain shortages, so it wouldn’t matter if we ha… https://t.co/YABWgwJc1N', 'truncated': True, 'entities': {'hashtags': [], 'symbols': [], 'user_mentions': [{'screen_name': 'AaronS5_', 'name': 'Aaron', 'id': 1009074200546566144, 'id_str': '1009074200546566144', 'indices': [0, 9]}, {'screen_name': 'ashleevance', 'name': 'Ashlee Vance', 'id': 81961201, 'id_str': '81961201', 'indices': [10, 22]}], 'urls': [{'url': 'https://t.co/YABWgwJc1N', 'expanded_url': 'https://twitter.com/i/web/status/1433115031940440065', 'display_url': 'twitter.com/i/web/status/1…', 'indices': [117, 140]}]}, 'source': '<a href=\"http://twitter.com/download/iphone\" rel=\"nofollow\">Twitter for iPhone</a>', 'in_reply_to_status_id': 1433111558733930496, 'in_reply_to_status_id_str': '1433111558733930496', 'in_reply_to_user_id': 1009074200546566144, 'in_reply_to_user_id_str': '1009074200546566144', 'in_reply_to_screen_name': 'AaronS5_', 'user': {'id': 44196397, 'id_str': '44196397', 'name': 'Elon Musk', 'screen_name': 'elonmusk', 'location': '', 'description': '', 'url': None, 'entities': {'description': {'urls': []}}, 'protected': False, 'followers_count': 59613062, 'friends_count': 105, 'listed_count': 76742, 'created_at': 'Tue Jun 02 20:12:29 +0000 2009', 'favourites_count': 9884, 'utc_offset': None, 'time_zone': None, 'geo_enabled': False, 'verified': True, 'statuses_count': 15316, 'lang': None, 'contributors_enabled': False, 'is_translator': False, 'is_translation_enabled': False, 'profile_background_color': 'C0DEED', 'profile_background_image_url': 'http://abs.twimg.com/images/themes/theme1/bg.png', 'profile_background_image_url_https': 'https://abs.twimg.com/images/themes/theme1/bg.png', 'profile_background_tile': False, 'profile_image_url': 'http://pbs.twimg.com/profile_images/1423663740344406029/l_-QOIHY_normal.jpg', 'profile_image_url_https': 'https://pbs.twimg.com/profile_images/1423663740344406029/l_-QOIHY_normal.jpg', 'profile_banner_url': 'https://pbs.twimg.com/profile_banners/44196397/1576183471', 'profile_link_color': '0084B4', 'profile_sidebar_border_color': 'C0DEED', 'profile_sidebar_fill_color': 'DDEEF6', 'profile_text_color': '333333', 'profile_use_background_image': True, 'has_extended_profile': True, 'default_profile': False, 'default_profile_image': False, 'following': False, 'follow_request_sent': False, 'notifications': False, 'translator_type': 'none', 'withheld_in_countries': []}, 'geo': None, 'coordinates': None, 'place': None, 'contributors': None, 'is_quote_status': False, 'retweet_count': 185, 'favorite_count': 1745, 'favorited': False, 'retweeted': False, 'lang': 'en'}, created_at=datetime.datetime(2021, 9, 1, 17, 10, 24), id=1433115031940440065, id_str='1433115031940440065', text='@AaronS5_ @ashleevance 2021 has been the year of super crazy supply chain shortages, so it wouldn’t matter if we ha… https://t.co/YABWgwJc1N', truncated=True, entities={'hashtags': [], 'symbols': [], 'user_mentions': [{'screen_name': 'AaronS5_', 'name': 'Aaron', 'id': 1009074200546566144, 'id_str': '1009074200546566144', 'indices': [0, 9]}, {'screen_name': 'ashleevance', 'name': 'Ashlee Vance', 'id': 81961201, 'id_str': '81961201', 'indices': [10, 22]}], 'urls': [{'url': 'https://t.co/YABWgwJc1N', 'expanded_url': 'https://twitter.com/i/web/status/1433115031940440065', 'display_url': 'twitter.com/i/web/status/1…', 'indices': [117, 140]}]}, source='Twitter for iPhone', source_url='http://twitter.com/download/iphone', in_reply_to_status_id=1433111558733930496, in_reply_to_status_id_str='1433111558733930496', in_reply_to_user_id=1009074200546566144, in_reply_to_user_id_str='1009074200546566144', in_reply_to_screen_name='AaronS5_', author=User(_api=<tweepy.api.API object at 0x000002710DED6850>, _json={'id': 44196397, 'id_str': '44196397', 'name': 'Elon Musk', 'screen_name': 'elonmusk', 'location': '', 'description': '', 'url': None, 'entities': {'description': {'urls': []}}, 'protected': False, 'followers_count': 59613062, 'friends_count': 105, 'listed_count': 76742, 'created_at': 'Tue Jun 02 20:12:29 +0000 2009', 'favourites_count': 9884, 'utc_offset': None, 'time_zone': None, 'geo_enabled': False, 'verified': True, 'statuses_count': 15316, 'lang': None, 'contributors_enabled': False, 'is_translator': False, 'is_translation_enabled': False, 'profile_background_color': 'C0DEED', 'profile_background_image_url': 'http://abs.twimg.com/images/themes/theme1/bg.png', 'profile_background_image_url_https': 'https://abs.twimg.com/images/themes/theme1/bg.png', 'profile_background_tile': False, 'profile_image_url': 'http://pbs.twimg.com/profile_images/1423663740344406029/l_-QOIHY_normal.jpg', 'profile_image_url_https': 'https://pbs.twimg.com/profile_images/1423663740344406029/l_-QOIHY_normal.jpg', 'profile_banner_url': 'https://pbs.twimg.com/profile_banners/44196397/1576183471', 'profile_link_color': '0084B4', 'profile_sidebar_border_color': 'C0DEED', 'profile_sidebar_fill_color': 'DDEEF6', 'profile_text_color': '333333', 'profile_use_background_image': True, 'has_extended_profile': True, 'default_profile': False, 'default_profile_image': False, 'following': False, 'follow_request_sent': False, 'notifications': False, 'translator_type': 'none', 'withheld_in_countries': []}, id=44196397, id_str='44196397', name='Elon Musk', screen_name='elonmusk', location='', description='', url=None, entities={'description': {'urls': []}}, protected=False, followers_count=59613062, friends_count=105, listed_count=76742, created_at=datetime.datetime(2009, 6, 2, 20, 12, 29), favourites_count=9884, utc_offset=None, time_zone=None, geo_enabled=False, verified=True, statuses_count=15316, lang=None, contributors_enabled=False, is_translator=False, is_translation_enabled=False, profile_background_color='C0DEED', profile_background_image_url='http://abs.twimg.com/images/themes/theme1/bg.png', profile_background_image_url_https='https://abs.twimg.com/images/themes/theme1/bg.png', profile_background_tile=False, profile_image_url='http://pbs.twimg.com/profile_images/1423663740344406029/l_-QOIHY_normal.jpg', profile_image_url_https='https://pbs.twimg.com/profile_images/1423663740344406029/l_-QOIHY_normal.jpg', profile_banner_url='https://pbs.twimg.com/profile_banners/44196397/1576183471', profile_link_color='0084B4', profile_sidebar_border_color='C0DEED', profile_sidebar_fill_color='DDEEF6', profile_text_color='333333', profile_use_background_image=True, has_extended_profile=True, default_profile=False, default_profile_image=False, following=False, follow_request_sent=False, notifications=False, translator_type='none', withheld_in_countries=[]), user=User(_api=<tweepy.api.API object at 0x000002710DED6850>, _json={'id': 44196397, 'id_str': '44196397', 'name': 'Elon Musk', 'screen_name': 'elonmusk', 'location': '', 'description': '', 'url': None, 'entities': {'description': {'urls': []}}, 'protected': False, 'followers_count': 59613062, 'friends_count': 105, 'listed_count': 76742, 'created_at': 'Tue Jun 02 20:12:29 +0000 2009', 'favourites_count': 9884, 'utc_offset': None, 'time_zone': None, 'geo_enabled': False, 'verified': True, 'statuses_count': 15316, 'lang': None, 'contributors_enabled': False, 'is_translator': False, 'is_translation_enabled': False, 'profile_background_color': 'C0DEED', 'profile_background_image_url': 'http://abs.twimg.com/images/themes/theme1/bg.png', 'profile_background_image_url_https': 'https://abs.twimg.com/images/themes/theme1/bg.png', 'profile_background_tile': False, 'profile_image_url': 'http://pbs.twimg.com/profile_images/1423663740344406029/l_-QOIHY_normal.jpg', 'profile_image_url_https': 'https://pbs.twimg.com/profile_images/1423663740344406029/l_-QOIHY_normal.jpg', 'profile_banner_url': 'https://pbs.twimg.com/profile_banners/44196397/1576183471', 'profile_link_color': '0084B4', 'profile_sidebar_border_color': 'C0DEED', 'profile_sidebar_fill_color': 'DDEEF6', 'profile_text_color': '333333', 'profile_use_background_image': True, 'has_extended_profile': True, 'default_profile': False, 'default_profile_image': False, 'following': False, 'follow_request_sent': False, 'notifications': False, 'translator_type': 'none', 'withheld_in_countries': []}, id=44196397, id_str='44196397', name='Elon Musk', screen_name='elonmusk', location='', description='', url=None, entities={'description': {'urls': []}}, protected=False, followers_count=59613062, friends_count=105, listed_count=76742, created_at=datetime.datetime(2009, 6, 2, 20, 12, 29), favourites_count=9884, utc_offset=None, time_zone=None, geo_enabled=False, verified=True, statuses_count=15316, lang=None, contributors_enabled=False, is_translator=False, is_translation_enabled=False, profile_background_color='C0DEED', profile_background_image_url='http://abs.twimg.com/images/themes/theme1/bg.png', profile_background_image_url_https='https://abs.twimg.com/images/themes/theme1/bg.png', profile_background_tile=False, profile_image_url='http://pbs.twimg.com/profile_images/1423663740344406029/l_-QOIHY_normal.jpg', profile_image_url_https='https://pbs.twimg.com/profile_images/1423663740344406029/l_-QOIHY_normal.jpg', profile_banner_url='https://pbs.twimg.com/profile_banners/44196397/1576183471', profile_link_color='0084B4', profile_sidebar_border_color='C0DEED', profile_sidebar_fill_color='DDEEF6', profile_text_color='333333', profile_use_background_image=True, has_extended_profile=True, default_profile=False, default_profile_image=False, following=False, follow_request_sent=False, notifications=False, translator_type='none', withheld_in_countries=[]), geo=None, coordinates=None, place=None, contributors=None, is_quote_status=False, retweet_count=185, favorite_count=1745, favorited=False, retweeted=False, lang='en'),\n",
       " Status(_api=<tweepy.api.API object at 0x000002710DED6850>, _json={'created_at': 'Wed Sep 01 16:57:24 +0000 2021', 'id': 1433111761679384576, 'id_str': '1433111761679384576', 'text': '@thesheetztweetz @Thom_astro @SpaceX @ISS_Research @Space_Station Great shots by @Thom_astro', 'truncated': False, 'entities': {'hashtags': [], 'symbols': [], 'user_mentions': [{'screen_name': 'thesheetztweetz', 'name': 'Michael Sheetz', 'id': 1231406720, 'id_str': '1231406720', 'indices': [0, 16]}, {'screen_name': 'Thom_astro', 'name': 'Thomas Pesquet', 'id': 437520768, 'id_str': '437520768', 'indices': [17, 28]}, {'screen_name': 'SpaceX', 'name': 'SpaceX', 'id': 34743251, 'id_str': '34743251', 'indices': [29, 36]}, {'screen_name': 'ISS_Research', 'name': 'ISS Research', 'id': 189253902, 'id_str': '189253902', 'indices': [37, 50]}, {'screen_name': 'Space_Station', 'name': 'International Space Station', 'id': 1451773004, 'id_str': '1451773004', 'indices': [51, 65]}, {'screen_name': 'Thom_astro', 'name': 'Thomas Pesquet', 'id': 437520768, 'id_str': '437520768', 'indices': [81, 92]}], 'urls': []}, 'source': '<a href=\"http://twitter.com/download/iphone\" rel=\"nofollow\">Twitter for iPhone</a>', 'in_reply_to_status_id': 1433043058220732420, 'in_reply_to_status_id_str': '1433043058220732420', 'in_reply_to_user_id': 1231406720, 'in_reply_to_user_id_str': '1231406720', 'in_reply_to_screen_name': 'thesheetztweetz', 'user': {'id': 44196397, 'id_str': '44196397', 'name': 'Elon Musk', 'screen_name': 'elonmusk', 'location': '', 'description': '', 'url': None, 'entities': {'description': {'urls': []}}, 'protected': False, 'followers_count': 59613062, 'friends_count': 105, 'listed_count': 76742, 'created_at': 'Tue Jun 02 20:12:29 +0000 2009', 'favourites_count': 9884, 'utc_offset': None, 'time_zone': None, 'geo_enabled': False, 'verified': True, 'statuses_count': 15316, 'lang': None, 'contributors_enabled': False, 'is_translator': False, 'is_translation_enabled': False, 'profile_background_color': 'C0DEED', 'profile_background_image_url': 'http://abs.twimg.com/images/themes/theme1/bg.png', 'profile_background_image_url_https': 'https://abs.twimg.com/images/themes/theme1/bg.png', 'profile_background_tile': False, 'profile_image_url': 'http://pbs.twimg.com/profile_images/1423663740344406029/l_-QOIHY_normal.jpg', 'profile_image_url_https': 'https://pbs.twimg.com/profile_images/1423663740344406029/l_-QOIHY_normal.jpg', 'profile_banner_url': 'https://pbs.twimg.com/profile_banners/44196397/1576183471', 'profile_link_color': '0084B4', 'profile_sidebar_border_color': 'C0DEED', 'profile_sidebar_fill_color': 'DDEEF6', 'profile_text_color': '333333', 'profile_use_background_image': True, 'has_extended_profile': True, 'default_profile': False, 'default_profile_image': False, 'following': False, 'follow_request_sent': False, 'notifications': False, 'translator_type': 'none', 'withheld_in_countries': []}, 'geo': None, 'coordinates': None, 'place': None, 'contributors': None, 'is_quote_status': False, 'retweet_count': 110, 'favorite_count': 2904, 'favorited': False, 'retweeted': False, 'lang': 'en'}, created_at=datetime.datetime(2021, 9, 1, 16, 57, 24), id=1433111761679384576, id_str='1433111761679384576', text='@thesheetztweetz @Thom_astro @SpaceX @ISS_Research @Space_Station Great shots by @Thom_astro', truncated=False, entities={'hashtags': [], 'symbols': [], 'user_mentions': [{'screen_name': 'thesheetztweetz', 'name': 'Michael Sheetz', 'id': 1231406720, 'id_str': '1231406720', 'indices': [0, 16]}, {'screen_name': 'Thom_astro', 'name': 'Thomas Pesquet', 'id': 437520768, 'id_str': '437520768', 'indices': [17, 28]}, {'screen_name': 'SpaceX', 'name': 'SpaceX', 'id': 34743251, 'id_str': '34743251', 'indices': [29, 36]}, {'screen_name': 'ISS_Research', 'name': 'ISS Research', 'id': 189253902, 'id_str': '189253902', 'indices': [37, 50]}, {'screen_name': 'Space_Station', 'name': 'International Space Station', 'id': 1451773004, 'id_str': '1451773004', 'indices': [51, 65]}, {'screen_name': 'Thom_astro', 'name': 'Thomas Pesquet', 'id': 437520768, 'id_str': '437520768', 'indices': [81, 92]}], 'urls': []}, source='Twitter for iPhone', source_url='http://twitter.com/download/iphone', in_reply_to_status_id=1433043058220732420, in_reply_to_status_id_str='1433043058220732420', in_reply_to_user_id=1231406720, in_reply_to_user_id_str='1231406720', in_reply_to_screen_name='thesheetztweetz', author=User(_api=<tweepy.api.API object at 0x000002710DED6850>, _json={'id': 44196397, 'id_str': '44196397', 'name': 'Elon Musk', 'screen_name': 'elonmusk', 'location': '', 'description': '', 'url': None, 'entities': {'description': {'urls': []}}, 'protected': False, 'followers_count': 59613062, 'friends_count': 105, 'listed_count': 76742, 'created_at': 'Tue Jun 02 20:12:29 +0000 2009', 'favourites_count': 9884, 'utc_offset': None, 'time_zone': None, 'geo_enabled': False, 'verified': True, 'statuses_count': 15316, 'lang': None, 'contributors_enabled': False, 'is_translator': False, 'is_translation_enabled': False, 'profile_background_color': 'C0DEED', 'profile_background_image_url': 'http://abs.twimg.com/images/themes/theme1/bg.png', 'profile_background_image_url_https': 'https://abs.twimg.com/images/themes/theme1/bg.png', 'profile_background_tile': False, 'profile_image_url': 'http://pbs.twimg.com/profile_images/1423663740344406029/l_-QOIHY_normal.jpg', 'profile_image_url_https': 'https://pbs.twimg.com/profile_images/1423663740344406029/l_-QOIHY_normal.jpg', 'profile_banner_url': 'https://pbs.twimg.com/profile_banners/44196397/1576183471', 'profile_link_color': '0084B4', 'profile_sidebar_border_color': 'C0DEED', 'profile_sidebar_fill_color': 'DDEEF6', 'profile_text_color': '333333', 'profile_use_background_image': True, 'has_extended_profile': True, 'default_profile': False, 'default_profile_image': False, 'following': False, 'follow_request_sent': False, 'notifications': False, 'translator_type': 'none', 'withheld_in_countries': []}, id=44196397, id_str='44196397', name='Elon Musk', screen_name='elonmusk', location='', description='', url=None, entities={'description': {'urls': []}}, protected=False, followers_count=59613062, friends_count=105, listed_count=76742, created_at=datetime.datetime(2009, 6, 2, 20, 12, 29), favourites_count=9884, utc_offset=None, time_zone=None, geo_enabled=False, verified=True, statuses_count=15316, lang=None, contributors_enabled=False, is_translator=False, is_translation_enabled=False, profile_background_color='C0DEED', profile_background_image_url='http://abs.twimg.com/images/themes/theme1/bg.png', profile_background_image_url_https='https://abs.twimg.com/images/themes/theme1/bg.png', profile_background_tile=False, profile_image_url='http://pbs.twimg.com/profile_images/1423663740344406029/l_-QOIHY_normal.jpg', profile_image_url_https='https://pbs.twimg.com/profile_images/1423663740344406029/l_-QOIHY_normal.jpg', profile_banner_url='https://pbs.twimg.com/profile_banners/44196397/1576183471', profile_link_color='0084B4', profile_sidebar_border_color='C0DEED', profile_sidebar_fill_color='DDEEF6', profile_text_color='333333', profile_use_background_image=True, has_extended_profile=True, default_profile=False, default_profile_image=False, following=False, follow_request_sent=False, notifications=False, translator_type='none', withheld_in_countries=[]), user=User(_api=<tweepy.api.API object at 0x000002710DED6850>, _json={'id': 44196397, 'id_str': '44196397', 'name': 'Elon Musk', 'screen_name': 'elonmusk', 'location': '', 'description': '', 'url': None, 'entities': {'description': {'urls': []}}, 'protected': False, 'followers_count': 59613062, 'friends_count': 105, 'listed_count': 76742, 'created_at': 'Tue Jun 02 20:12:29 +0000 2009', 'favourites_count': 9884, 'utc_offset': None, 'time_zone': None, 'geo_enabled': False, 'verified': True, 'statuses_count': 15316, 'lang': None, 'contributors_enabled': False, 'is_translator': False, 'is_translation_enabled': False, 'profile_background_color': 'C0DEED', 'profile_background_image_url': 'http://abs.twimg.com/images/themes/theme1/bg.png', 'profile_background_image_url_https': 'https://abs.twimg.com/images/themes/theme1/bg.png', 'profile_background_tile': False, 'profile_image_url': 'http://pbs.twimg.com/profile_images/1423663740344406029/l_-QOIHY_normal.jpg', 'profile_image_url_https': 'https://pbs.twimg.com/profile_images/1423663740344406029/l_-QOIHY_normal.jpg', 'profile_banner_url': 'https://pbs.twimg.com/profile_banners/44196397/1576183471', 'profile_link_color': '0084B4', 'profile_sidebar_border_color': 'C0DEED', 'profile_sidebar_fill_color': 'DDEEF6', 'profile_text_color': '333333', 'profile_use_background_image': True, 'has_extended_profile': True, 'default_profile': False, 'default_profile_image': False, 'following': False, 'follow_request_sent': False, 'notifications': False, 'translator_type': 'none', 'withheld_in_countries': []}, id=44196397, id_str='44196397', name='Elon Musk', screen_name='elonmusk', location='', description='', url=None, entities={'description': {'urls': []}}, protected=False, followers_count=59613062, friends_count=105, listed_count=76742, created_at=datetime.datetime(2009, 6, 2, 20, 12, 29), favourites_count=9884, utc_offset=None, time_zone=None, geo_enabled=False, verified=True, statuses_count=15316, lang=None, contributors_enabled=False, is_translator=False, is_translation_enabled=False, profile_background_color='C0DEED', profile_background_image_url='http://abs.twimg.com/images/themes/theme1/bg.png', profile_background_image_url_https='https://abs.twimg.com/images/themes/theme1/bg.png', profile_background_tile=False, profile_image_url='http://pbs.twimg.com/profile_images/1423663740344406029/l_-QOIHY_normal.jpg', profile_image_url_https='https://pbs.twimg.com/profile_images/1423663740344406029/l_-QOIHY_normal.jpg', profile_banner_url='https://pbs.twimg.com/profile_banners/44196397/1576183471', profile_link_color='0084B4', profile_sidebar_border_color='C0DEED', profile_sidebar_fill_color='DDEEF6', profile_text_color='333333', profile_use_background_image=True, has_extended_profile=True, default_profile=False, default_profile_image=False, following=False, follow_request_sent=False, notifications=False, translator_type='none', withheld_in_countries=[]), geo=None, coordinates=None, place=None, contributors=None, is_quote_status=False, retweet_count=110, favorite_count=2904, favorited=False, retweeted=False, lang='en'),\n",
       " Status(_api=<tweepy.api.API object at 0x000002710DED6850>, _json={'created_at': 'Wed Sep 01 16:54:17 +0000 2021', 'id': 1433110976123998209, 'id_str': '1433110976123998209', 'text': '@ashleevance Maybe zap him on the head with our space lasers …', 'truncated': False, 'entities': {'hashtags': [], 'symbols': [], 'user_mentions': [{'screen_name': 'ashleevance', 'name': 'Ashlee Vance', 'id': 81961201, 'id_str': '81961201', 'indices': [0, 12]}], 'urls': []}, 'source': '<a href=\"http://twitter.com/download/iphone\" rel=\"nofollow\">Twitter for iPhone</a>', 'in_reply_to_status_id': 1433110569100333061, 'in_reply_to_status_id_str': '1433110569100333061', 'in_reply_to_user_id': 81961201, 'in_reply_to_user_id_str': '81961201', 'in_reply_to_screen_name': 'ashleevance', 'user': {'id': 44196397, 'id_str': '44196397', 'name': 'Elon Musk', 'screen_name': 'elonmusk', 'location': '', 'description': '', 'url': None, 'entities': {'description': {'urls': []}}, 'protected': False, 'followers_count': 59613062, 'friends_count': 105, 'listed_count': 76742, 'created_at': 'Tue Jun 02 20:12:29 +0000 2009', 'favourites_count': 9884, 'utc_offset': None, 'time_zone': None, 'geo_enabled': False, 'verified': True, 'statuses_count': 15316, 'lang': None, 'contributors_enabled': False, 'is_translator': False, 'is_translation_enabled': False, 'profile_background_color': 'C0DEED', 'profile_background_image_url': 'http://abs.twimg.com/images/themes/theme1/bg.png', 'profile_background_image_url_https': 'https://abs.twimg.com/images/themes/theme1/bg.png', 'profile_background_tile': False, 'profile_image_url': 'http://pbs.twimg.com/profile_images/1423663740344406029/l_-QOIHY_normal.jpg', 'profile_image_url_https': 'https://pbs.twimg.com/profile_images/1423663740344406029/l_-QOIHY_normal.jpg', 'profile_banner_url': 'https://pbs.twimg.com/profile_banners/44196397/1576183471', 'profile_link_color': '0084B4', 'profile_sidebar_border_color': 'C0DEED', 'profile_sidebar_fill_color': 'DDEEF6', 'profile_text_color': '333333', 'profile_use_background_image': True, 'has_extended_profile': True, 'default_profile': False, 'default_profile_image': False, 'following': False, 'follow_request_sent': False, 'notifications': False, 'translator_type': 'none', 'withheld_in_countries': []}, 'geo': None, 'coordinates': None, 'place': None, 'contributors': None, 'is_quote_status': False, 'retweet_count': 158, 'favorite_count': 1879, 'favorited': False, 'retweeted': False, 'lang': 'en'}, created_at=datetime.datetime(2021, 9, 1, 16, 54, 17), id=1433110976123998209, id_str='1433110976123998209', text='@ashleevance Maybe zap him on the head with our space lasers …', truncated=False, entities={'hashtags': [], 'symbols': [], 'user_mentions': [{'screen_name': 'ashleevance', 'name': 'Ashlee Vance', 'id': 81961201, 'id_str': '81961201', 'indices': [0, 12]}], 'urls': []}, source='Twitter for iPhone', source_url='http://twitter.com/download/iphone', in_reply_to_status_id=1433110569100333061, in_reply_to_status_id_str='1433110569100333061', in_reply_to_user_id=81961201, in_reply_to_user_id_str='81961201', in_reply_to_screen_name='ashleevance', author=User(_api=<tweepy.api.API object at 0x000002710DED6850>, _json={'id': 44196397, 'id_str': '44196397', 'name': 'Elon Musk', 'screen_name': 'elonmusk', 'location': '', 'description': '', 'url': None, 'entities': {'description': {'urls': []}}, 'protected': False, 'followers_count': 59613062, 'friends_count': 105, 'listed_count': 76742, 'created_at': 'Tue Jun 02 20:12:29 +0000 2009', 'favourites_count': 9884, 'utc_offset': None, 'time_zone': None, 'geo_enabled': False, 'verified': True, 'statuses_count': 15316, 'lang': None, 'contributors_enabled': False, 'is_translator': False, 'is_translation_enabled': False, 'profile_background_color': 'C0DEED', 'profile_background_image_url': 'http://abs.twimg.com/images/themes/theme1/bg.png', 'profile_background_image_url_https': 'https://abs.twimg.com/images/themes/theme1/bg.png', 'profile_background_tile': False, 'profile_image_url': 'http://pbs.twimg.com/profile_images/1423663740344406029/l_-QOIHY_normal.jpg', 'profile_image_url_https': 'https://pbs.twimg.com/profile_images/1423663740344406029/l_-QOIHY_normal.jpg', 'profile_banner_url': 'https://pbs.twimg.com/profile_banners/44196397/1576183471', 'profile_link_color': '0084B4', 'profile_sidebar_border_color': 'C0DEED', 'profile_sidebar_fill_color': 'DDEEF6', 'profile_text_color': '333333', 'profile_use_background_image': True, 'has_extended_profile': True, 'default_profile': False, 'default_profile_image': False, 'following': False, 'follow_request_sent': False, 'notifications': False, 'translator_type': 'none', 'withheld_in_countries': []}, id=44196397, id_str='44196397', name='Elon Musk', screen_name='elonmusk', location='', description='', url=None, entities={'description': {'urls': []}}, protected=False, followers_count=59613062, friends_count=105, listed_count=76742, created_at=datetime.datetime(2009, 6, 2, 20, 12, 29), favourites_count=9884, utc_offset=None, time_zone=None, geo_enabled=False, verified=True, statuses_count=15316, lang=None, contributors_enabled=False, is_translator=False, is_translation_enabled=False, profile_background_color='C0DEED', profile_background_image_url='http://abs.twimg.com/images/themes/theme1/bg.png', profile_background_image_url_https='https://abs.twimg.com/images/themes/theme1/bg.png', profile_background_tile=False, profile_image_url='http://pbs.twimg.com/profile_images/1423663740344406029/l_-QOIHY_normal.jpg', profile_image_url_https='https://pbs.twimg.com/profile_images/1423663740344406029/l_-QOIHY_normal.jpg', profile_banner_url='https://pbs.twimg.com/profile_banners/44196397/1576183471', profile_link_color='0084B4', profile_sidebar_border_color='C0DEED', profile_sidebar_fill_color='DDEEF6', profile_text_color='333333', profile_use_background_image=True, has_extended_profile=True, default_profile=False, default_profile_image=False, following=False, follow_request_sent=False, notifications=False, translator_type='none', withheld_in_countries=[]), user=User(_api=<tweepy.api.API object at 0x000002710DED6850>, _json={'id': 44196397, 'id_str': '44196397', 'name': 'Elon Musk', 'screen_name': 'elonmusk', 'location': '', 'description': '', 'url': None, 'entities': {'description': {'urls': []}}, 'protected': False, 'followers_count': 59613062, 'friends_count': 105, 'listed_count': 76742, 'created_at': 'Tue Jun 02 20:12:29 +0000 2009', 'favourites_count': 9884, 'utc_offset': None, 'time_zone': None, 'geo_enabled': False, 'verified': True, 'statuses_count': 15316, 'lang': None, 'contributors_enabled': False, 'is_translator': False, 'is_translation_enabled': False, 'profile_background_color': 'C0DEED', 'profile_background_image_url': 'http://abs.twimg.com/images/themes/theme1/bg.png', 'profile_background_image_url_https': 'https://abs.twimg.com/images/themes/theme1/bg.png', 'profile_background_tile': False, 'profile_image_url': 'http://pbs.twimg.com/profile_images/1423663740344406029/l_-QOIHY_normal.jpg', 'profile_image_url_https': 'https://pbs.twimg.com/profile_images/1423663740344406029/l_-QOIHY_normal.jpg', 'profile_banner_url': 'https://pbs.twimg.com/profile_banners/44196397/1576183471', 'profile_link_color': '0084B4', 'profile_sidebar_border_color': 'C0DEED', 'profile_sidebar_fill_color': 'DDEEF6', 'profile_text_color': '333333', 'profile_use_background_image': True, 'has_extended_profile': True, 'default_profile': False, 'default_profile_image': False, 'following': False, 'follow_request_sent': False, 'notifications': False, 'translator_type': 'none', 'withheld_in_countries': []}, id=44196397, id_str='44196397', name='Elon Musk', screen_name='elonmusk', location='', description='', url=None, entities={'description': {'urls': []}}, protected=False, followers_count=59613062, friends_count=105, listed_count=76742, created_at=datetime.datetime(2009, 6, 2, 20, 12, 29), favourites_count=9884, utc_offset=None, time_zone=None, geo_enabled=False, verified=True, statuses_count=15316, lang=None, contributors_enabled=False, is_translator=False, is_translation_enabled=False, profile_background_color='C0DEED', profile_background_image_url='http://abs.twimg.com/images/themes/theme1/bg.png', profile_background_image_url_https='https://abs.twimg.com/images/themes/theme1/bg.png', profile_background_tile=False, profile_image_url='http://pbs.twimg.com/profile_images/1423663740344406029/l_-QOIHY_normal.jpg', profile_image_url_https='https://pbs.twimg.com/profile_images/1423663740344406029/l_-QOIHY_normal.jpg', profile_banner_url='https://pbs.twimg.com/profile_banners/44196397/1576183471', profile_link_color='0084B4', profile_sidebar_border_color='C0DEED', profile_sidebar_fill_color='DDEEF6', profile_text_color='333333', profile_use_background_image=True, has_extended_profile=True, default_profile=False, default_profile_image=False, following=False, follow_request_sent=False, notifications=False, translator_type='none', withheld_in_countries=[]), geo=None, coordinates=None, place=None, contributors=None, is_quote_status=False, retweet_count=158, favorite_count=1879, favorited=False, retweeted=False, lang='en'),\n",
       " Status(_api=<tweepy.api.API object at 0x000002710DED6850>, _json={'created_at': 'Wed Sep 01 16:46:52 +0000 2021', 'id': 1433109112397516807, 'id_str': '1433109112397516807', 'text': '@DJSnM @thesheetztweetz @johnkrausphotos @LylaKohistany Technically, data packets do not need to touch regular Inte… https://t.co/MOVDV9iYHT', 'truncated': True, 'entities': {'hashtags': [], 'symbols': [], 'user_mentions': [{'screen_name': 'DJSnM', 'name': 'Scott Manley', 'id': 92356429, 'id_str': '92356429', 'indices': [0, 6]}, {'screen_name': 'thesheetztweetz', 'name': 'Michael Sheetz', 'id': 1231406720, 'id_str': '1231406720', 'indices': [7, 23]}, {'screen_name': 'johnkrausphotos', 'name': 'John Kraus', 'id': 3072160164, 'id_str': '3072160164', 'indices': [24, 40]}, {'screen_name': 'LylaKohistany', 'name': 'Lyla Kohistany', 'id': 896739413249667073, 'id_str': '896739413249667073', 'indices': [41, 55]}], 'urls': [{'url': 'https://t.co/MOVDV9iYHT', 'expanded_url': 'https://twitter.com/i/web/status/1433109112397516807', 'display_url': 'twitter.com/i/web/status/1…', 'indices': [117, 140]}]}, 'source': '<a href=\"http://twitter.com/download/iphone\" rel=\"nofollow\">Twitter for iPhone</a>', 'in_reply_to_status_id': 1433108018413981698, 'in_reply_to_status_id_str': '1433108018413981698', 'in_reply_to_user_id': 44196397, 'in_reply_to_user_id_str': '44196397', 'in_reply_to_screen_name': 'elonmusk', 'user': {'id': 44196397, 'id_str': '44196397', 'name': 'Elon Musk', 'screen_name': 'elonmusk', 'location': '', 'description': '', 'url': None, 'entities': {'description': {'urls': []}}, 'protected': False, 'followers_count': 59613062, 'friends_count': 105, 'listed_count': 76742, 'created_at': 'Tue Jun 02 20:12:29 +0000 2009', 'favourites_count': 9884, 'utc_offset': None, 'time_zone': None, 'geo_enabled': False, 'verified': True, 'statuses_count': 15316, 'lang': None, 'contributors_enabled': False, 'is_translator': False, 'is_translation_enabled': False, 'profile_background_color': 'C0DEED', 'profile_background_image_url': 'http://abs.twimg.com/images/themes/theme1/bg.png', 'profile_background_image_url_https': 'https://abs.twimg.com/images/themes/theme1/bg.png', 'profile_background_tile': False, 'profile_image_url': 'http://pbs.twimg.com/profile_images/1423663740344406029/l_-QOIHY_normal.jpg', 'profile_image_url_https': 'https://pbs.twimg.com/profile_images/1423663740344406029/l_-QOIHY_normal.jpg', 'profile_banner_url': 'https://pbs.twimg.com/profile_banners/44196397/1576183471', 'profile_link_color': '0084B4', 'profile_sidebar_border_color': 'C0DEED', 'profile_sidebar_fill_color': 'DDEEF6', 'profile_text_color': '333333', 'profile_use_background_image': True, 'has_extended_profile': True, 'default_profile': False, 'default_profile_image': False, 'following': False, 'follow_request_sent': False, 'notifications': False, 'translator_type': 'none', 'withheld_in_countries': []}, 'geo': None, 'coordinates': None, 'place': None, 'contributors': None, 'is_quote_status': False, 'retweet_count': 143, 'favorite_count': 2166, 'favorited': False, 'retweeted': False, 'lang': 'en'}, created_at=datetime.datetime(2021, 9, 1, 16, 46, 52), id=1433109112397516807, id_str='1433109112397516807', text='@DJSnM @thesheetztweetz @johnkrausphotos @LylaKohistany Technically, data packets do not need to touch regular Inte… https://t.co/MOVDV9iYHT', truncated=True, entities={'hashtags': [], 'symbols': [], 'user_mentions': [{'screen_name': 'DJSnM', 'name': 'Scott Manley', 'id': 92356429, 'id_str': '92356429', 'indices': [0, 6]}, {'screen_name': 'thesheetztweetz', 'name': 'Michael Sheetz', 'id': 1231406720, 'id_str': '1231406720', 'indices': [7, 23]}, {'screen_name': 'johnkrausphotos', 'name': 'John Kraus', 'id': 3072160164, 'id_str': '3072160164', 'indices': [24, 40]}, {'screen_name': 'LylaKohistany', 'name': 'Lyla Kohistany', 'id': 896739413249667073, 'id_str': '896739413249667073', 'indices': [41, 55]}], 'urls': [{'url': 'https://t.co/MOVDV9iYHT', 'expanded_url': 'https://twitter.com/i/web/status/1433109112397516807', 'display_url': 'twitter.com/i/web/status/1…', 'indices': [117, 140]}]}, source='Twitter for iPhone', source_url='http://twitter.com/download/iphone', in_reply_to_status_id=1433108018413981698, in_reply_to_status_id_str='1433108018413981698', in_reply_to_user_id=44196397, in_reply_to_user_id_str='44196397', in_reply_to_screen_name='elonmusk', author=User(_api=<tweepy.api.API object at 0x000002710DED6850>, _json={'id': 44196397, 'id_str': '44196397', 'name': 'Elon Musk', 'screen_name': 'elonmusk', 'location': '', 'description': '', 'url': None, 'entities': {'description': {'urls': []}}, 'protected': False, 'followers_count': 59613062, 'friends_count': 105, 'listed_count': 76742, 'created_at': 'Tue Jun 02 20:12:29 +0000 2009', 'favourites_count': 9884, 'utc_offset': None, 'time_zone': None, 'geo_enabled': False, 'verified': True, 'statuses_count': 15316, 'lang': None, 'contributors_enabled': False, 'is_translator': False, 'is_translation_enabled': False, 'profile_background_color': 'C0DEED', 'profile_background_image_url': 'http://abs.twimg.com/images/themes/theme1/bg.png', 'profile_background_image_url_https': 'https://abs.twimg.com/images/themes/theme1/bg.png', 'profile_background_tile': False, 'profile_image_url': 'http://pbs.twimg.com/profile_images/1423663740344406029/l_-QOIHY_normal.jpg', 'profile_image_url_https': 'https://pbs.twimg.com/profile_images/1423663740344406029/l_-QOIHY_normal.jpg', 'profile_banner_url': 'https://pbs.twimg.com/profile_banners/44196397/1576183471', 'profile_link_color': '0084B4', 'profile_sidebar_border_color': 'C0DEED', 'profile_sidebar_fill_color': 'DDEEF6', 'profile_text_color': '333333', 'profile_use_background_image': True, 'has_extended_profile': True, 'default_profile': False, 'default_profile_image': False, 'following': False, 'follow_request_sent': False, 'notifications': False, 'translator_type': 'none', 'withheld_in_countries': []}, id=44196397, id_str='44196397', name='Elon Musk', screen_name='elonmusk', location='', description='', url=None, entities={'description': {'urls': []}}, protected=False, followers_count=59613062, friends_count=105, listed_count=76742, created_at=datetime.datetime(2009, 6, 2, 20, 12, 29), favourites_count=9884, utc_offset=None, time_zone=None, geo_enabled=False, verified=True, statuses_count=15316, lang=None, contributors_enabled=False, is_translator=False, is_translation_enabled=False, profile_background_color='C0DEED', profile_background_image_url='http://abs.twimg.com/images/themes/theme1/bg.png', profile_background_image_url_https='https://abs.twimg.com/images/themes/theme1/bg.png', profile_background_tile=False, profile_image_url='http://pbs.twimg.com/profile_images/1423663740344406029/l_-QOIHY_normal.jpg', profile_image_url_https='https://pbs.twimg.com/profile_images/1423663740344406029/l_-QOIHY_normal.jpg', profile_banner_url='https://pbs.twimg.com/profile_banners/44196397/1576183471', profile_link_color='0084B4', profile_sidebar_border_color='C0DEED', profile_sidebar_fill_color='DDEEF6', profile_text_color='333333', profile_use_background_image=True, has_extended_profile=True, default_profile=False, default_profile_image=False, following=False, follow_request_sent=False, notifications=False, translator_type='none', withheld_in_countries=[]), user=User(_api=<tweepy.api.API object at 0x000002710DED6850>, _json={'id': 44196397, 'id_str': '44196397', 'name': 'Elon Musk', 'screen_name': 'elonmusk', 'location': '', 'description': '', 'url': None, 'entities': {'description': {'urls': []}}, 'protected': False, 'followers_count': 59613062, 'friends_count': 105, 'listed_count': 76742, 'created_at': 'Tue Jun 02 20:12:29 +0000 2009', 'favourites_count': 9884, 'utc_offset': None, 'time_zone': None, 'geo_enabled': False, 'verified': True, 'statuses_count': 15316, 'lang': None, 'contributors_enabled': False, 'is_translator': False, 'is_translation_enabled': False, 'profile_background_color': 'C0DEED', 'profile_background_image_url': 'http://abs.twimg.com/images/themes/theme1/bg.png', 'profile_background_image_url_https': 'https://abs.twimg.com/images/themes/theme1/bg.png', 'profile_background_tile': False, 'profile_image_url': 'http://pbs.twimg.com/profile_images/1423663740344406029/l_-QOIHY_normal.jpg', 'profile_image_url_https': 'https://pbs.twimg.com/profile_images/1423663740344406029/l_-QOIHY_normal.jpg', 'profile_banner_url': 'https://pbs.twimg.com/profile_banners/44196397/1576183471', 'profile_link_color': '0084B4', 'profile_sidebar_border_color': 'C0DEED', 'profile_sidebar_fill_color': 'DDEEF6', 'profile_text_color': '333333', 'profile_use_background_image': True, 'has_extended_profile': True, 'default_profile': False, 'default_profile_image': False, 'following': False, 'follow_request_sent': False, 'notifications': False, 'translator_type': 'none', 'withheld_in_countries': []}, id=44196397, id_str='44196397', name='Elon Musk', screen_name='elonmusk', location='', description='', url=None, entities={'description': {'urls': []}}, protected=False, followers_count=59613062, friends_count=105, listed_count=76742, created_at=datetime.datetime(2009, 6, 2, 20, 12, 29), favourites_count=9884, utc_offset=None, time_zone=None, geo_enabled=False, verified=True, statuses_count=15316, lang=None, contributors_enabled=False, is_translator=False, is_translation_enabled=False, profile_background_color='C0DEED', profile_background_image_url='http://abs.twimg.com/images/themes/theme1/bg.png', profile_background_image_url_https='https://abs.twimg.com/images/themes/theme1/bg.png', profile_background_tile=False, profile_image_url='http://pbs.twimg.com/profile_images/1423663740344406029/l_-QOIHY_normal.jpg', profile_image_url_https='https://pbs.twimg.com/profile_images/1423663740344406029/l_-QOIHY_normal.jpg', profile_banner_url='https://pbs.twimg.com/profile_banners/44196397/1576183471', profile_link_color='0084B4', profile_sidebar_border_color='C0DEED', profile_sidebar_fill_color='DDEEF6', profile_text_color='333333', profile_use_background_image=True, has_extended_profile=True, default_profile=False, default_profile_image=False, following=False, follow_request_sent=False, notifications=False, translator_type='none', withheld_in_countries=[]), geo=None, coordinates=None, place=None, contributors=None, is_quote_status=False, retweet_count=143, favorite_count=2166, favorited=False, retweeted=False, lang='en'),\n",
       " Status(_api=<tweepy.api.API object at 0x000002710DED6850>, _json={'created_at': 'Wed Sep 01 16:42:32 +0000 2021', 'id': 1433108018413981698, 'id_str': '1433108018413981698', 'text': '@DJSnM @thesheetztweetz @johnkrausphotos @LylaKohistany Our satellites launching in next few months have inter-sate… https://t.co/v1ElECrLjd', 'truncated': True, 'entities': {'hashtags': [], 'symbols': [], 'user_mentions': [{'screen_name': 'DJSnM', 'name': 'Scott Manley', 'id': 92356429, 'id_str': '92356429', 'indices': [0, 6]}, {'screen_name': 'thesheetztweetz', 'name': 'Michael Sheetz', 'id': 1231406720, 'id_str': '1231406720', 'indices': [7, 23]}, {'screen_name': 'johnkrausphotos', 'name': 'John Kraus', 'id': 3072160164, 'id_str': '3072160164', 'indices': [24, 40]}, {'screen_name': 'LylaKohistany', 'name': 'Lyla Kohistany', 'id': 896739413249667073, 'id_str': '896739413249667073', 'indices': [41, 55]}], 'urls': [{'url': 'https://t.co/v1ElECrLjd', 'expanded_url': 'https://twitter.com/i/web/status/1433108018413981698', 'display_url': 'twitter.com/i/web/status/1…', 'indices': [117, 140]}]}, 'source': '<a href=\"http://twitter.com/download/iphone\" rel=\"nofollow\">Twitter for iPhone</a>', 'in_reply_to_status_id': 1433087164946911237, 'in_reply_to_status_id_str': '1433087164946911237', 'in_reply_to_user_id': 92356429, 'in_reply_to_user_id_str': '92356429', 'in_reply_to_screen_name': 'DJSnM', 'user': {'id': 44196397, 'id_str': '44196397', 'name': 'Elon Musk', 'screen_name': 'elonmusk', 'location': '', 'description': '', 'url': None, 'entities': {'description': {'urls': []}}, 'protected': False, 'followers_count': 59613062, 'friends_count': 105, 'listed_count': 76742, 'created_at': 'Tue Jun 02 20:12:29 +0000 2009', 'favourites_count': 9884, 'utc_offset': None, 'time_zone': None, 'geo_enabled': False, 'verified': True, 'statuses_count': 15316, 'lang': None, 'contributors_enabled': False, 'is_translator': False, 'is_translation_enabled': False, 'profile_background_color': 'C0DEED', 'profile_background_image_url': 'http://abs.twimg.com/images/themes/theme1/bg.png', 'profile_background_image_url_https': 'https://abs.twimg.com/images/themes/theme1/bg.png', 'profile_background_tile': False, 'profile_image_url': 'http://pbs.twimg.com/profile_images/1423663740344406029/l_-QOIHY_normal.jpg', 'profile_image_url_https': 'https://pbs.twimg.com/profile_images/1423663740344406029/l_-QOIHY_normal.jpg', 'profile_banner_url': 'https://pbs.twimg.com/profile_banners/44196397/1576183471', 'profile_link_color': '0084B4', 'profile_sidebar_border_color': 'C0DEED', 'profile_sidebar_fill_color': 'DDEEF6', 'profile_text_color': '333333', 'profile_use_background_image': True, 'has_extended_profile': True, 'default_profile': False, 'default_profile_image': False, 'following': False, 'follow_request_sent': False, 'notifications': False, 'translator_type': 'none', 'withheld_in_countries': []}, 'geo': None, 'coordinates': None, 'place': None, 'contributors': None, 'is_quote_status': False, 'retweet_count': 253, 'favorite_count': 3521, 'favorited': False, 'retweeted': False, 'lang': 'en'}, created_at=datetime.datetime(2021, 9, 1, 16, 42, 32), id=1433108018413981698, id_str='1433108018413981698', text='@DJSnM @thesheetztweetz @johnkrausphotos @LylaKohistany Our satellites launching in next few months have inter-sate… https://t.co/v1ElECrLjd', truncated=True, entities={'hashtags': [], 'symbols': [], 'user_mentions': [{'screen_name': 'DJSnM', 'name': 'Scott Manley', 'id': 92356429, 'id_str': '92356429', 'indices': [0, 6]}, {'screen_name': 'thesheetztweetz', 'name': 'Michael Sheetz', 'id': 1231406720, 'id_str': '1231406720', 'indices': [7, 23]}, {'screen_name': 'johnkrausphotos', 'name': 'John Kraus', 'id': 3072160164, 'id_str': '3072160164', 'indices': [24, 40]}, {'screen_name': 'LylaKohistany', 'name': 'Lyla Kohistany', 'id': 896739413249667073, 'id_str': '896739413249667073', 'indices': [41, 55]}], 'urls': [{'url': 'https://t.co/v1ElECrLjd', 'expanded_url': 'https://twitter.com/i/web/status/1433108018413981698', 'display_url': 'twitter.com/i/web/status/1…', 'indices': [117, 140]}]}, source='Twitter for iPhone', source_url='http://twitter.com/download/iphone', in_reply_to_status_id=1433087164946911237, in_reply_to_status_id_str='1433087164946911237', in_reply_to_user_id=92356429, in_reply_to_user_id_str='92356429', in_reply_to_screen_name='DJSnM', author=User(_api=<tweepy.api.API object at 0x000002710DED6850>, _json={'id': 44196397, 'id_str': '44196397', 'name': 'Elon Musk', 'screen_name': 'elonmusk', 'location': '', 'description': '', 'url': None, 'entities': {'description': {'urls': []}}, 'protected': False, 'followers_count': 59613062, 'friends_count': 105, 'listed_count': 76742, 'created_at': 'Tue Jun 02 20:12:29 +0000 2009', 'favourites_count': 9884, 'utc_offset': None, 'time_zone': None, 'geo_enabled': False, 'verified': True, 'statuses_count': 15316, 'lang': None, 'contributors_enabled': False, 'is_translator': False, 'is_translation_enabled': False, 'profile_background_color': 'C0DEED', 'profile_background_image_url': 'http://abs.twimg.com/images/themes/theme1/bg.png', 'profile_background_image_url_https': 'https://abs.twimg.com/images/themes/theme1/bg.png', 'profile_background_tile': False, 'profile_image_url': 'http://pbs.twimg.com/profile_images/1423663740344406029/l_-QOIHY_normal.jpg', 'profile_image_url_https': 'https://pbs.twimg.com/profile_images/1423663740344406029/l_-QOIHY_normal.jpg', 'profile_banner_url': 'https://pbs.twimg.com/profile_banners/44196397/1576183471', 'profile_link_color': '0084B4', 'profile_sidebar_border_color': 'C0DEED', 'profile_sidebar_fill_color': 'DDEEF6', 'profile_text_color': '333333', 'profile_use_background_image': True, 'has_extended_profile': True, 'default_profile': False, 'default_profile_image': False, 'following': False, 'follow_request_sent': False, 'notifications': False, 'translator_type': 'none', 'withheld_in_countries': []}, id=44196397, id_str='44196397', name='Elon Musk', screen_name='elonmusk', location='', description='', url=None, entities={'description': {'urls': []}}, protected=False, followers_count=59613062, friends_count=105, listed_count=76742, created_at=datetime.datetime(2009, 6, 2, 20, 12, 29), favourites_count=9884, utc_offset=None, time_zone=None, geo_enabled=False, verified=True, statuses_count=15316, lang=None, contributors_enabled=False, is_translator=False, is_translation_enabled=False, profile_background_color='C0DEED', profile_background_image_url='http://abs.twimg.com/images/themes/theme1/bg.png', profile_background_image_url_https='https://abs.twimg.com/images/themes/theme1/bg.png', profile_background_tile=False, profile_image_url='http://pbs.twimg.com/profile_images/1423663740344406029/l_-QOIHY_normal.jpg', profile_image_url_https='https://pbs.twimg.com/profile_images/1423663740344406029/l_-QOIHY_normal.jpg', profile_banner_url='https://pbs.twimg.com/profile_banners/44196397/1576183471', profile_link_color='0084B4', profile_sidebar_border_color='C0DEED', profile_sidebar_fill_color='DDEEF6', profile_text_color='333333', profile_use_background_image=True, has_extended_profile=True, default_profile=False, default_profile_image=False, following=False, follow_request_sent=False, notifications=False, translator_type='none', withheld_in_countries=[]), user=User(_api=<tweepy.api.API object at 0x000002710DED6850>, _json={'id': 44196397, 'id_str': '44196397', 'name': 'Elon Musk', 'screen_name': 'elonmusk', 'location': '', 'description': '', 'url': None, 'entities': {'description': {'urls': []}}, 'protected': False, 'followers_count': 59613062, 'friends_count': 105, 'listed_count': 76742, 'created_at': 'Tue Jun 02 20:12:29 +0000 2009', 'favourites_count': 9884, 'utc_offset': None, 'time_zone': None, 'geo_enabled': False, 'verified': True, 'statuses_count': 15316, 'lang': None, 'contributors_enabled': False, 'is_translator': False, 'is_translation_enabled': False, 'profile_background_color': 'C0DEED', 'profile_background_image_url': 'http://abs.twimg.com/images/themes/theme1/bg.png', 'profile_background_image_url_https': 'https://abs.twimg.com/images/themes/theme1/bg.png', 'profile_background_tile': False, 'profile_image_url': 'http://pbs.twimg.com/profile_images/1423663740344406029/l_-QOIHY_normal.jpg', 'profile_image_url_https': 'https://pbs.twimg.com/profile_images/1423663740344406029/l_-QOIHY_normal.jpg', 'profile_banner_url': 'https://pbs.twimg.com/profile_banners/44196397/1576183471', 'profile_link_color': '0084B4', 'profile_sidebar_border_color': 'C0DEED', 'profile_sidebar_fill_color': 'DDEEF6', 'profile_text_color': '333333', 'profile_use_background_image': True, 'has_extended_profile': True, 'default_profile': False, 'default_profile_image': False, 'following': False, 'follow_request_sent': False, 'notifications': False, 'translator_type': 'none', 'withheld_in_countries': []}, id=44196397, id_str='44196397', name='Elon Musk', screen_name='elonmusk', location='', description='', url=None, entities={'description': {'urls': []}}, protected=False, followers_count=59613062, friends_count=105, listed_count=76742, created_at=datetime.datetime(2009, 6, 2, 20, 12, 29), favourites_count=9884, utc_offset=None, time_zone=None, geo_enabled=False, verified=True, statuses_count=15316, lang=None, contributors_enabled=False, is_translator=False, is_translation_enabled=False, profile_background_color='C0DEED', profile_background_image_url='http://abs.twimg.com/images/themes/theme1/bg.png', profile_background_image_url_https='https://abs.twimg.com/images/themes/theme1/bg.png', profile_background_tile=False, profile_image_url='http://pbs.twimg.com/profile_images/1423663740344406029/l_-QOIHY_normal.jpg', profile_image_url_https='https://pbs.twimg.com/profile_images/1423663740344406029/l_-QOIHY_normal.jpg', profile_banner_url='https://pbs.twimg.com/profile_banners/44196397/1576183471', profile_link_color='0084B4', profile_sidebar_border_color='C0DEED', profile_sidebar_fill_color='DDEEF6', profile_text_color='333333', profile_use_background_image=True, has_extended_profile=True, default_profile=False, default_profile_image=False, following=False, follow_request_sent=False, notifications=False, translator_type='none', withheld_in_countries=[]), geo=None, coordinates=None, place=None, contributors=None, is_quote_status=False, retweet_count=253, favorite_count=3521, favorited=False, retweeted=False, lang='en'),\n",
       " Status(_api=<tweepy.api.API object at 0x000002710DED6850>, _json={'created_at': 'Wed Sep 01 16:21:41 +0000 2021', 'id': 1433102773013258242, 'id_str': '1433102773013258242', 'text': '@thesheetztweetz Filing legal actions against SpaceX is *actually* his full-time job https://t.co/XifRICQ62k', 'truncated': False, 'entities': {'hashtags': [], 'symbols': [], 'user_mentions': [{'screen_name': 'thesheetztweetz', 'name': 'Michael Sheetz', 'id': 1231406720, 'id_str': '1231406720', 'indices': [0, 16]}], 'urls': [], 'media': [{'id': 1433102769703964674, 'id_str': '1433102769703964674', 'indices': [85, 108], 'media_url': 'http://pbs.twimg.com/media/E-NnYErVUAINQTs.jpg', 'media_url_https': 'https://pbs.twimg.com/media/E-NnYErVUAINQTs.jpg', 'url': 'https://t.co/XifRICQ62k', 'display_url': 'pic.twitter.com/XifRICQ62k', 'expanded_url': 'https://twitter.com/elonmusk/status/1433102773013258242/photo/1', 'type': 'photo', 'sizes': {'large': {'w': 1094, 'h': 297, 'resize': 'fit'}, 'thumb': {'w': 150, 'h': 150, 'resize': 'crop'}, 'small': {'w': 680, 'h': 185, 'resize': 'fit'}, 'medium': {'w': 1094, 'h': 297, 'resize': 'fit'}}}]}, 'extended_entities': {'media': [{'id': 1433102769703964674, 'id_str': '1433102769703964674', 'indices': [85, 108], 'media_url': 'http://pbs.twimg.com/media/E-NnYErVUAINQTs.jpg', 'media_url_https': 'https://pbs.twimg.com/media/E-NnYErVUAINQTs.jpg', 'url': 'https://t.co/XifRICQ62k', 'display_url': 'pic.twitter.com/XifRICQ62k', 'expanded_url': 'https://twitter.com/elonmusk/status/1433102773013258242/photo/1', 'type': 'photo', 'sizes': {'large': {'w': 1094, 'h': 297, 'resize': 'fit'}, 'thumb': {'w': 150, 'h': 150, 'resize': 'crop'}, 'small': {'w': 680, 'h': 185, 'resize': 'fit'}, 'medium': {'w': 1094, 'h': 297, 'resize': 'fit'}}}]}, 'source': '<a href=\"http://twitter.com/download/iphone\" rel=\"nofollow\">Twitter for iPhone</a>', 'in_reply_to_status_id': 1433098903600214018, 'in_reply_to_status_id_str': '1433098903600214018', 'in_reply_to_user_id': 1231406720, 'in_reply_to_user_id_str': '1231406720', 'in_reply_to_screen_name': 'thesheetztweetz', 'user': {'id': 44196397, 'id_str': '44196397', 'name': 'Elon Musk', 'screen_name': 'elonmusk', 'location': '', 'description': '', 'url': None, 'entities': {'description': {'urls': []}}, 'protected': False, 'followers_count': 59613062, 'friends_count': 105, 'listed_count': 76742, 'created_at': 'Tue Jun 02 20:12:29 +0000 2009', 'favourites_count': 9884, 'utc_offset': None, 'time_zone': None, 'geo_enabled': False, 'verified': True, 'statuses_count': 15316, 'lang': None, 'contributors_enabled': False, 'is_translator': False, 'is_translation_enabled': False, 'profile_background_color': 'C0DEED', 'profile_background_image_url': 'http://abs.twimg.com/images/themes/theme1/bg.png', 'profile_background_image_url_https': 'https://abs.twimg.com/images/themes/theme1/bg.png', 'profile_background_tile': False, 'profile_image_url': 'http://pbs.twimg.com/profile_images/1423663740344406029/l_-QOIHY_normal.jpg', 'profile_image_url_https': 'https://pbs.twimg.com/profile_images/1423663740344406029/l_-QOIHY_normal.jpg', 'profile_banner_url': 'https://pbs.twimg.com/profile_banners/44196397/1576183471', 'profile_link_color': '0084B4', 'profile_sidebar_border_color': 'C0DEED', 'profile_sidebar_fill_color': 'DDEEF6', 'profile_text_color': '333333', 'profile_use_background_image': True, 'has_extended_profile': True, 'default_profile': False, 'default_profile_image': False, 'following': False, 'follow_request_sent': False, 'notifications': False, 'translator_type': 'none', 'withheld_in_countries': []}, 'geo': None, 'coordinates': None, 'place': None, 'contributors': None, 'is_quote_status': False, 'retweet_count': 637, 'favorite_count': 7060, 'favorited': False, 'retweeted': False, 'possibly_sensitive': False, 'lang': 'en'}, created_at=datetime.datetime(2021, 9, 1, 16, 21, 41), id=1433102773013258242, id_str='1433102773013258242', text='@thesheetztweetz Filing legal actions against SpaceX is *actually* his full-time job https://t.co/XifRICQ62k', truncated=False, entities={'hashtags': [], 'symbols': [], 'user_mentions': [{'screen_name': 'thesheetztweetz', 'name': 'Michael Sheetz', 'id': 1231406720, 'id_str': '1231406720', 'indices': [0, 16]}], 'urls': [], 'media': [{'id': 1433102769703964674, 'id_str': '1433102769703964674', 'indices': [85, 108], 'media_url': 'http://pbs.twimg.com/media/E-NnYErVUAINQTs.jpg', 'media_url_https': 'https://pbs.twimg.com/media/E-NnYErVUAINQTs.jpg', 'url': 'https://t.co/XifRICQ62k', 'display_url': 'pic.twitter.com/XifRICQ62k', 'expanded_url': 'https://twitter.com/elonmusk/status/1433102773013258242/photo/1', 'type': 'photo', 'sizes': {'large': {'w': 1094, 'h': 297, 'resize': 'fit'}, 'thumb': {'w': 150, 'h': 150, 'resize': 'crop'}, 'small': {'w': 680, 'h': 185, 'resize': 'fit'}, 'medium': {'w': 1094, 'h': 297, 'resize': 'fit'}}}]}, extended_entities={'media': [{'id': 1433102769703964674, 'id_str': '1433102769703964674', 'indices': [85, 108], 'media_url': 'http://pbs.twimg.com/media/E-NnYErVUAINQTs.jpg', 'media_url_https': 'https://pbs.twimg.com/media/E-NnYErVUAINQTs.jpg', 'url': 'https://t.co/XifRICQ62k', 'display_url': 'pic.twitter.com/XifRICQ62k', 'expanded_url': 'https://twitter.com/elonmusk/status/1433102773013258242/photo/1', 'type': 'photo', 'sizes': {'large': {'w': 1094, 'h': 297, 'resize': 'fit'}, 'thumb': {'w': 150, 'h': 150, 'resize': 'crop'}, 'small': {'w': 680, 'h': 185, 'resize': 'fit'}, 'medium': {'w': 1094, 'h': 297, 'resize': 'fit'}}}]}, source='Twitter for iPhone', source_url='http://twitter.com/download/iphone', in_reply_to_status_id=1433098903600214018, in_reply_to_status_id_str='1433098903600214018', in_reply_to_user_id=1231406720, in_reply_to_user_id_str='1231406720', in_reply_to_screen_name='thesheetztweetz', author=User(_api=<tweepy.api.API object at 0x000002710DED6850>, _json={'id': 44196397, 'id_str': '44196397', 'name': 'Elon Musk', 'screen_name': 'elonmusk', 'location': '', 'description': '', 'url': None, 'entities': {'description': {'urls': []}}, 'protected': False, 'followers_count': 59613062, 'friends_count': 105, 'listed_count': 76742, 'created_at': 'Tue Jun 02 20:12:29 +0000 2009', 'favourites_count': 9884, 'utc_offset': None, 'time_zone': None, 'geo_enabled': False, 'verified': True, 'statuses_count': 15316, 'lang': None, 'contributors_enabled': False, 'is_translator': False, 'is_translation_enabled': False, 'profile_background_color': 'C0DEED', 'profile_background_image_url': 'http://abs.twimg.com/images/themes/theme1/bg.png', 'profile_background_image_url_https': 'https://abs.twimg.com/images/themes/theme1/bg.png', 'profile_background_tile': False, 'profile_image_url': 'http://pbs.twimg.com/profile_images/1423663740344406029/l_-QOIHY_normal.jpg', 'profile_image_url_https': 'https://pbs.twimg.com/profile_images/1423663740344406029/l_-QOIHY_normal.jpg', 'profile_banner_url': 'https://pbs.twimg.com/profile_banners/44196397/1576183471', 'profile_link_color': '0084B4', 'profile_sidebar_border_color': 'C0DEED', 'profile_sidebar_fill_color': 'DDEEF6', 'profile_text_color': '333333', 'profile_use_background_image': True, 'has_extended_profile': True, 'default_profile': False, 'default_profile_image': False, 'following': False, 'follow_request_sent': False, 'notifications': False, 'translator_type': 'none', 'withheld_in_countries': []}, id=44196397, id_str='44196397', name='Elon Musk', screen_name='elonmusk', location='', description='', url=None, entities={'description': {'urls': []}}, protected=False, followers_count=59613062, friends_count=105, listed_count=76742, created_at=datetime.datetime(2009, 6, 2, 20, 12, 29), favourites_count=9884, utc_offset=None, time_zone=None, geo_enabled=False, verified=True, statuses_count=15316, lang=None, contributors_enabled=False, is_translator=False, is_translation_enabled=False, profile_background_color='C0DEED', profile_background_image_url='http://abs.twimg.com/images/themes/theme1/bg.png', profile_background_image_url_https='https://abs.twimg.com/images/themes/theme1/bg.png', profile_background_tile=False, profile_image_url='http://pbs.twimg.com/profile_images/1423663740344406029/l_-QOIHY_normal.jpg', profile_image_url_https='https://pbs.twimg.com/profile_images/1423663740344406029/l_-QOIHY_normal.jpg', profile_banner_url='https://pbs.twimg.com/profile_banners/44196397/1576183471', profile_link_color='0084B4', profile_sidebar_border_color='C0DEED', profile_sidebar_fill_color='DDEEF6', profile_text_color='333333', profile_use_background_image=True, has_extended_profile=True, default_profile=False, default_profile_image=False, following=False, follow_request_sent=False, notifications=False, translator_type='none', withheld_in_countries=[]), user=User(_api=<tweepy.api.API object at 0x000002710DED6850>, _json={'id': 44196397, 'id_str': '44196397', 'name': 'Elon Musk', 'screen_name': 'elonmusk', 'location': '', 'description': '', 'url': None, 'entities': {'description': {'urls': []}}, 'protected': False, 'followers_count': 59613062, 'friends_count': 105, 'listed_count': 76742, 'created_at': 'Tue Jun 02 20:12:29 +0000 2009', 'favourites_count': 9884, 'utc_offset': None, 'time_zone': None, 'geo_enabled': False, 'verified': True, 'statuses_count': 15316, 'lang': None, 'contributors_enabled': False, 'is_translator': False, 'is_translation_enabled': False, 'profile_background_color': 'C0DEED', 'profile_background_image_url': 'http://abs.twimg.com/images/themes/theme1/bg.png', 'profile_background_image_url_https': 'https://abs.twimg.com/images/themes/theme1/bg.png', 'profile_background_tile': False, 'profile_image_url': 'http://pbs.twimg.com/profile_images/1423663740344406029/l_-QOIHY_normal.jpg', 'profile_image_url_https': 'https://pbs.twimg.com/profile_images/1423663740344406029/l_-QOIHY_normal.jpg', 'profile_banner_url': 'https://pbs.twimg.com/profile_banners/44196397/1576183471', 'profile_link_color': '0084B4', 'profile_sidebar_border_color': 'C0DEED', 'profile_sidebar_fill_color': 'DDEEF6', 'profile_text_color': '333333', 'profile_use_background_image': True, 'has_extended_profile': True, 'default_profile': False, 'default_profile_image': False, 'following': False, 'follow_request_sent': False, 'notifications': False, 'translator_type': 'none', 'withheld_in_countries': []}, id=44196397, id_str='44196397', name='Elon Musk', screen_name='elonmusk', location='', description='', url=None, entities={'description': {'urls': []}}, protected=False, followers_count=59613062, friends_count=105, listed_count=76742, created_at=datetime.datetime(2009, 6, 2, 20, 12, 29), favourites_count=9884, utc_offset=None, time_zone=None, geo_enabled=False, verified=True, statuses_count=15316, lang=None, contributors_enabled=False, is_translator=False, is_translation_enabled=False, profile_background_color='C0DEED', profile_background_image_url='http://abs.twimg.com/images/themes/theme1/bg.png', profile_background_image_url_https='https://abs.twimg.com/images/themes/theme1/bg.png', profile_background_tile=False, profile_image_url='http://pbs.twimg.com/profile_images/1423663740344406029/l_-QOIHY_normal.jpg', profile_image_url_https='https://pbs.twimg.com/profile_images/1423663740344406029/l_-QOIHY_normal.jpg', profile_banner_url='https://pbs.twimg.com/profile_banners/44196397/1576183471', profile_link_color='0084B4', profile_sidebar_border_color='C0DEED', profile_sidebar_fill_color='DDEEF6', profile_text_color='333333', profile_use_background_image=True, has_extended_profile=True, default_profile=False, default_profile_image=False, following=False, follow_request_sent=False, notifications=False, translator_type='none', withheld_in_countries=[]), geo=None, coordinates=None, place=None, contributors=None, is_quote_status=False, retweet_count=637, favorite_count=7060, favorited=False, retweeted=False, possibly_sensitive=False, lang='en'),\n",
       " Status(_api=<tweepy.api.API object at 0x000002710DED6850>, _json={'created_at': 'Wed Sep 01 16:13:33 +0000 2021', 'id': 1433100724569657348, 'id_str': '1433100724569657348', 'text': '@SciGuySpace He should consider spending some money on actual lunar lander hardware, instead of shady lobbyists', 'truncated': False, 'entities': {'hashtags': [], 'symbols': [], 'user_mentions': [{'screen_name': 'SciGuySpace', 'name': 'Eric Berger', 'id': 15726728, 'id_str': '15726728', 'indices': [0, 12]}], 'urls': []}, 'source': '<a href=\"http://twitter.com/download/iphone\" rel=\"nofollow\">Twitter for iPhone</a>', 'in_reply_to_status_id': 1433057017422360577, 'in_reply_to_status_id_str': '1433057017422360577', 'in_reply_to_user_id': 15726728, 'in_reply_to_user_id_str': '15726728', 'in_reply_to_screen_name': 'SciGuySpace', 'user': {'id': 44196397, 'id_str': '44196397', 'name': 'Elon Musk', 'screen_name': 'elonmusk', 'location': '', 'description': '', 'url': None, 'entities': {'description': {'urls': []}}, 'protected': False, 'followers_count': 59613062, 'friends_count': 105, 'listed_count': 76742, 'created_at': 'Tue Jun 02 20:12:29 +0000 2009', 'favourites_count': 9884, 'utc_offset': None, 'time_zone': None, 'geo_enabled': False, 'verified': True, 'statuses_count': 15316, 'lang': None, 'contributors_enabled': False, 'is_translator': False, 'is_translation_enabled': False, 'profile_background_color': 'C0DEED', 'profile_background_image_url': 'http://abs.twimg.com/images/themes/theme1/bg.png', 'profile_background_image_url_https': 'https://abs.twimg.com/images/themes/theme1/bg.png', 'profile_background_tile': False, 'profile_image_url': 'http://pbs.twimg.com/profile_images/1423663740344406029/l_-QOIHY_normal.jpg', 'profile_image_url_https': 'https://pbs.twimg.com/profile_images/1423663740344406029/l_-QOIHY_normal.jpg', 'profile_banner_url': 'https://pbs.twimg.com/profile_banners/44196397/1576183471', 'profile_link_color': '0084B4', 'profile_sidebar_border_color': 'C0DEED', 'profile_sidebar_fill_color': 'DDEEF6', 'profile_text_color': '333333', 'profile_use_background_image': True, 'has_extended_profile': True, 'default_profile': False, 'default_profile_image': False, 'following': False, 'follow_request_sent': False, 'notifications': False, 'translator_type': 'none', 'withheld_in_countries': []}, 'geo': None, 'coordinates': None, 'place': None, 'contributors': None, 'is_quote_status': False, 'retweet_count': 1021, 'favorite_count': 15432, 'favorited': False, 'retweeted': False, 'lang': 'en'}, created_at=datetime.datetime(2021, 9, 1, 16, 13, 33), id=1433100724569657348, id_str='1433100724569657348', text='@SciGuySpace He should consider spending some money on actual lunar lander hardware, instead of shady lobbyists', truncated=False, entities={'hashtags': [], 'symbols': [], 'user_mentions': [{'screen_name': 'SciGuySpace', 'name': 'Eric Berger', 'id': 15726728, 'id_str': '15726728', 'indices': [0, 12]}], 'urls': []}, source='Twitter for iPhone', source_url='http://twitter.com/download/iphone', in_reply_to_status_id=1433057017422360577, in_reply_to_status_id_str='1433057017422360577', in_reply_to_user_id=15726728, in_reply_to_user_id_str='15726728', in_reply_to_screen_name='SciGuySpace', author=User(_api=<tweepy.api.API object at 0x000002710DED6850>, _json={'id': 44196397, 'id_str': '44196397', 'name': 'Elon Musk', 'screen_name': 'elonmusk', 'location': '', 'description': '', 'url': None, 'entities': {'description': {'urls': []}}, 'protected': False, 'followers_count': 59613062, 'friends_count': 105, 'listed_count': 76742, 'created_at': 'Tue Jun 02 20:12:29 +0000 2009', 'favourites_count': 9884, 'utc_offset': None, 'time_zone': None, 'geo_enabled': False, 'verified': True, 'statuses_count': 15316, 'lang': None, 'contributors_enabled': False, 'is_translator': False, 'is_translation_enabled': False, 'profile_background_color': 'C0DEED', 'profile_background_image_url': 'http://abs.twimg.com/images/themes/theme1/bg.png', 'profile_background_image_url_https': 'https://abs.twimg.com/images/themes/theme1/bg.png', 'profile_background_tile': False, 'profile_image_url': 'http://pbs.twimg.com/profile_images/1423663740344406029/l_-QOIHY_normal.jpg', 'profile_image_url_https': 'https://pbs.twimg.com/profile_images/1423663740344406029/l_-QOIHY_normal.jpg', 'profile_banner_url': 'https://pbs.twimg.com/profile_banners/44196397/1576183471', 'profile_link_color': '0084B4', 'profile_sidebar_border_color': 'C0DEED', 'profile_sidebar_fill_color': 'DDEEF6', 'profile_text_color': '333333', 'profile_use_background_image': True, 'has_extended_profile': True, 'default_profile': False, 'default_profile_image': False, 'following': False, 'follow_request_sent': False, 'notifications': False, 'translator_type': 'none', 'withheld_in_countries': []}, id=44196397, id_str='44196397', name='Elon Musk', screen_name='elonmusk', location='', description='', url=None, entities={'description': {'urls': []}}, protected=False, followers_count=59613062, friends_count=105, listed_count=76742, created_at=datetime.datetime(2009, 6, 2, 20, 12, 29), favourites_count=9884, utc_offset=None, time_zone=None, geo_enabled=False, verified=True, statuses_count=15316, lang=None, contributors_enabled=False, is_translator=False, is_translation_enabled=False, profile_background_color='C0DEED', profile_background_image_url='http://abs.twimg.com/images/themes/theme1/bg.png', profile_background_image_url_https='https://abs.twimg.com/images/themes/theme1/bg.png', profile_background_tile=False, profile_image_url='http://pbs.twimg.com/profile_images/1423663740344406029/l_-QOIHY_normal.jpg', profile_image_url_https='https://pbs.twimg.com/profile_images/1423663740344406029/l_-QOIHY_normal.jpg', profile_banner_url='https://pbs.twimg.com/profile_banners/44196397/1576183471', profile_link_color='0084B4', profile_sidebar_border_color='C0DEED', profile_sidebar_fill_color='DDEEF6', profile_text_color='333333', profile_use_background_image=True, has_extended_profile=True, default_profile=False, default_profile_image=False, following=False, follow_request_sent=False, notifications=False, translator_type='none', withheld_in_countries=[]), user=User(_api=<tweepy.api.API object at 0x000002710DED6850>, _json={'id': 44196397, 'id_str': '44196397', 'name': 'Elon Musk', 'screen_name': 'elonmusk', 'location': '', 'description': '', 'url': None, 'entities': {'description': {'urls': []}}, 'protected': False, 'followers_count': 59613062, 'friends_count': 105, 'listed_count': 76742, 'created_at': 'Tue Jun 02 20:12:29 +0000 2009', 'favourites_count': 9884, 'utc_offset': None, 'time_zone': None, 'geo_enabled': False, 'verified': True, 'statuses_count': 15316, 'lang': None, 'contributors_enabled': False, 'is_translator': False, 'is_translation_enabled': False, 'profile_background_color': 'C0DEED', 'profile_background_image_url': 'http://abs.twimg.com/images/themes/theme1/bg.png', 'profile_background_image_url_https': 'https://abs.twimg.com/images/themes/theme1/bg.png', 'profile_background_tile': False, 'profile_image_url': 'http://pbs.twimg.com/profile_images/1423663740344406029/l_-QOIHY_normal.jpg', 'profile_image_url_https': 'https://pbs.twimg.com/profile_images/1423663740344406029/l_-QOIHY_normal.jpg', 'profile_banner_url': 'https://pbs.twimg.com/profile_banners/44196397/1576183471', 'profile_link_color': '0084B4', 'profile_sidebar_border_color': 'C0DEED', 'profile_sidebar_fill_color': 'DDEEF6', 'profile_text_color': '333333', 'profile_use_background_image': True, 'has_extended_profile': True, 'default_profile': False, 'default_profile_image': False, 'following': False, 'follow_request_sent': False, 'notifications': False, 'translator_type': 'none', 'withheld_in_countries': []}, id=44196397, id_str='44196397', name='Elon Musk', screen_name='elonmusk', location='', description='', url=None, entities={'description': {'urls': []}}, protected=False, followers_count=59613062, friends_count=105, listed_count=76742, created_at=datetime.datetime(2009, 6, 2, 20, 12, 29), favourites_count=9884, utc_offset=None, time_zone=None, geo_enabled=False, verified=True, statuses_count=15316, lang=None, contributors_enabled=False, is_translator=False, is_translation_enabled=False, profile_background_color='C0DEED', profile_background_image_url='http://abs.twimg.com/images/themes/theme1/bg.png', profile_background_image_url_https='https://abs.twimg.com/images/themes/theme1/bg.png', profile_background_tile=False, profile_image_url='http://pbs.twimg.com/profile_images/1423663740344406029/l_-QOIHY_normal.jpg', profile_image_url_https='https://pbs.twimg.com/profile_images/1423663740344406029/l_-QOIHY_normal.jpg', profile_banner_url='https://pbs.twimg.com/profile_banners/44196397/1576183471', profile_link_color='0084B4', profile_sidebar_border_color='C0DEED', profile_sidebar_fill_color='DDEEF6', profile_text_color='333333', profile_use_background_image=True, has_extended_profile=True, default_profile=False, default_profile_image=False, following=False, follow_request_sent=False, notifications=False, translator_type='none', withheld_in_countries=[]), geo=None, coordinates=None, place=None, contributors=None, is_quote_status=False, retweet_count=1021, favorite_count=15432, favorited=False, retweeted=False, lang='en')]"
      ]
     },
     "execution_count": 55,
     "metadata": {},
     "output_type": "execute_result"
    }
   ],
   "source": [
    "api.user_timeline('elonmusk',count=10)"
   ]
  },
  {
   "cell_type": "markdown",
   "metadata": {},
   "source": [
    "## your task \n",
    "\n",
    "--> create your account \n",
    "\n",
    "--> make App and extract a data from twiter with specific keyword \n",
    "\n",
    "--> find out what is streaming \n",
    "\n",
    "--> find out  how you can do streaming using python\n",
    "\n",
    "More information can be found [here](https://docs.tweepy.org/en/stable/streaming.html#using-stream)\n",
    "\n",
    "note that its lock now except your accounts \n"
   ]
  },
  {
   "cell_type": "code",
   "execution_count": null,
   "metadata": {},
   "outputs": [],
   "source": []
  }
 ],
 "metadata": {
  "kernelspec": {
   "display_name": "Python 3",
   "language": "python",
   "name": "python3"
  },
  "language_info": {
   "codemirror_mode": {
    "name": "ipython",
    "version": 3
   },
   "file_extension": ".py",
   "mimetype": "text/x-python",
   "name": "python",
   "nbconvert_exporter": "python",
   "pygments_lexer": "ipython3",
   "version": "3.6.4"
  }
 },
 "nbformat": 4,
 "nbformat_minor": 4
}
